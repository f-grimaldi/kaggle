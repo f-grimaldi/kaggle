{
 "cells": [
  {
   "cell_type": "markdown",
   "metadata": {},
   "source": [
    "## Predict Ion Channel Opening - Modelling Part"
   ]
  },
  {
   "cell_type": "code",
   "execution_count": 1,
   "metadata": {},
   "outputs": [],
   "source": [
    "import pandas as pd\n",
    "import matplotlib.pyplot as plt\n",
    "from matplotlib import cm\n",
    "import numpy as np\n",
    "\n",
    "from sklearn.model_selection import train_test_split, KFold, GridSearchCV\n",
    "from sklearn.metrics import accuracy_score, f1_score\n",
    "from sklearn.preprocessing import MinMaxScaler\n",
    "from sklearn.ensemble import RandomForestClassifier, RandomForestRegressor\n",
    "from sklearn.neighbors import KNeighborsClassifier\n",
    "from sklearn.svm import SVC\n",
    "\n",
    "import torch\n",
    "from torch import nn, optim\n",
    "from torch.nn import functional as F"
   ]
  },
  {
   "cell_type": "markdown",
   "metadata": {},
   "source": [
    "### 1. Importing pre-processed data"
   ]
  },
  {
   "cell_type": "code",
   "execution_count": 2,
   "metadata": {},
   "outputs": [
    {
     "data": {
      "text/html": [
       "<div>\n",
       "<style scoped>\n",
       "    .dataframe tbody tr th:only-of-type {\n",
       "        vertical-align: middle;\n",
       "    }\n",
       "\n",
       "    .dataframe tbody tr th {\n",
       "        vertical-align: top;\n",
       "    }\n",
       "\n",
       "    .dataframe thead th {\n",
       "        text-align: right;\n",
       "    }\n",
       "</style>\n",
       "<table border=\"1\" class=\"dataframe\">\n",
       "  <thead>\n",
       "    <tr style=\"text-align: right;\">\n",
       "      <th></th>\n",
       "      <th>time</th>\n",
       "      <th>signal</th>\n",
       "      <th>open_channels</th>\n",
       "      <th>denoised_signal</th>\n",
       "      <th>stable</th>\n",
       "      <th>block</th>\n",
       "      <th>block_mean</th>\n",
       "      <th>block_std</th>\n",
       "      <th>min_block_signal</th>\n",
       "      <th>max_block_signal</th>\n",
       "      <th>residual</th>\n",
       "      <th>error</th>\n",
       "      <th>error_std</th>\n",
       "      <th>normalized_signal</th>\n",
       "      <th>outliers</th>\n",
       "      <th>is_weak_outliers</th>\n",
       "      <th>is_avg_outliers</th>\n",
       "      <th>is_strong_outliers</th>\n",
       "    </tr>\n",
       "  </thead>\n",
       "  <tbody>\n",
       "    <tr>\n",
       "      <th>0</th>\n",
       "      <td>0.0001</td>\n",
       "      <td>-2.7600</td>\n",
       "      <td>0</td>\n",
       "      <td>-2.692369</td>\n",
       "      <td>1</td>\n",
       "      <td>0</td>\n",
       "      <td>-2.681517</td>\n",
       "      <td>0.110437</td>\n",
       "      <td>-3.8506</td>\n",
       "      <td>3.5376</td>\n",
       "      <td>0.009407</td>\n",
       "      <td>-0.096989</td>\n",
       "      <td>0.32928</td>\n",
       "      <td>-2.778505</td>\n",
       "      <td>-0.574617</td>\n",
       "      <td>0</td>\n",
       "      <td>0</td>\n",
       "      <td>0</td>\n",
       "    </tr>\n",
       "    <tr>\n",
       "      <th>1</th>\n",
       "      <td>0.0002</td>\n",
       "      <td>-2.8557</td>\n",
       "      <td>0</td>\n",
       "      <td>-2.692137</td>\n",
       "      <td>1</td>\n",
       "      <td>0</td>\n",
       "      <td>-2.681517</td>\n",
       "      <td>0.110437</td>\n",
       "      <td>-3.8506</td>\n",
       "      <td>3.5376</td>\n",
       "      <td>0.037129</td>\n",
       "      <td>-0.192689</td>\n",
       "      <td>0.32928</td>\n",
       "      <td>-2.874205</td>\n",
       "      <td>-0.546895</td>\n",
       "      <td>0</td>\n",
       "      <td>0</td>\n",
       "      <td>0</td>\n",
       "    </tr>\n",
       "    <tr>\n",
       "      <th>2</th>\n",
       "      <td>0.0003</td>\n",
       "      <td>-2.4074</td>\n",
       "      <td>0</td>\n",
       "      <td>-2.692303</td>\n",
       "      <td>1</td>\n",
       "      <td>0</td>\n",
       "      <td>-2.681517</td>\n",
       "      <td>0.110437</td>\n",
       "      <td>-3.8506</td>\n",
       "      <td>3.5376</td>\n",
       "      <td>0.065337</td>\n",
       "      <td>0.255611</td>\n",
       "      <td>0.32928</td>\n",
       "      <td>-2.425905</td>\n",
       "      <td>-0.518687</td>\n",
       "      <td>0</td>\n",
       "      <td>0</td>\n",
       "      <td>0</td>\n",
       "    </tr>\n",
       "    <tr>\n",
       "      <th>3</th>\n",
       "      <td>0.0004</td>\n",
       "      <td>-3.1404</td>\n",
       "      <td>0</td>\n",
       "      <td>-2.692241</td>\n",
       "      <td>1</td>\n",
       "      <td>0</td>\n",
       "      <td>-2.681517</td>\n",
       "      <td>0.110437</td>\n",
       "      <td>-3.8506</td>\n",
       "      <td>3.5376</td>\n",
       "      <td>0.227900</td>\n",
       "      <td>-0.477389</td>\n",
       "      <td>0.32928</td>\n",
       "      <td>-3.158905</td>\n",
       "      <td>-0.356124</td>\n",
       "      <td>0</td>\n",
       "      <td>0</td>\n",
       "      <td>0</td>\n",
       "    </tr>\n",
       "    <tr>\n",
       "      <th>4</th>\n",
       "      <td>0.0005</td>\n",
       "      <td>-3.1525</td>\n",
       "      <td>0</td>\n",
       "      <td>-2.691679</td>\n",
       "      <td>1</td>\n",
       "      <td>0</td>\n",
       "      <td>-2.681517</td>\n",
       "      <td>0.110437</td>\n",
       "      <td>-3.8506</td>\n",
       "      <td>3.5376</td>\n",
       "      <td>0.239599</td>\n",
       "      <td>-0.489488</td>\n",
       "      <td>0.32928</td>\n",
       "      <td>-3.171005</td>\n",
       "      <td>-0.344425</td>\n",
       "      <td>0</td>\n",
       "      <td>0</td>\n",
       "      <td>0</td>\n",
       "    </tr>\n",
       "  </tbody>\n",
       "</table>\n",
       "</div>"
      ],
      "text/plain": [
       "     time  signal  open_channels  denoised_signal  stable  block  block_mean  \\\n",
       "0  0.0001 -2.7600              0        -2.692369       1      0   -2.681517   \n",
       "1  0.0002 -2.8557              0        -2.692137       1      0   -2.681517   \n",
       "2  0.0003 -2.4074              0        -2.692303       1      0   -2.681517   \n",
       "3  0.0004 -3.1404              0        -2.692241       1      0   -2.681517   \n",
       "4  0.0005 -3.1525              0        -2.691679       1      0   -2.681517   \n",
       "\n",
       "   block_std  min_block_signal  max_block_signal  residual     error  \\\n",
       "0   0.110437           -3.8506            3.5376  0.009407 -0.096989   \n",
       "1   0.110437           -3.8506            3.5376  0.037129 -0.192689   \n",
       "2   0.110437           -3.8506            3.5376  0.065337  0.255611   \n",
       "3   0.110437           -3.8506            3.5376  0.227900 -0.477389   \n",
       "4   0.110437           -3.8506            3.5376  0.239599 -0.489488   \n",
       "\n",
       "   error_std  normalized_signal  outliers  is_weak_outliers  is_avg_outliers  \\\n",
       "0    0.32928          -2.778505 -0.574617                 0                0   \n",
       "1    0.32928          -2.874205 -0.546895                 0                0   \n",
       "2    0.32928          -2.425905 -0.518687                 0                0   \n",
       "3    0.32928          -3.158905 -0.356124                 0                0   \n",
       "4    0.32928          -3.171005 -0.344425                 0                0   \n",
       "\n",
       "   is_strong_outliers  \n",
       "0                   0  \n",
       "1                   0  \n",
       "2                   0  \n",
       "3                   0  \n",
       "4                   0  "
      ]
     },
     "execution_count": 2,
     "metadata": {},
     "output_type": "execute_result"
    }
   ],
   "source": [
    "df, df_test = pd.read_csv('train_matrix.csv'), pd.read_csv('test_matrix.csv')\n",
    "df.head()"
   ]
  },
  {
   "cell_type": "code",
   "execution_count": 3,
   "metadata": {},
   "outputs": [
    {
     "data": {
      "text/html": [
       "<div>\n",
       "<style scoped>\n",
       "    .dataframe tbody tr th:only-of-type {\n",
       "        vertical-align: middle;\n",
       "    }\n",
       "\n",
       "    .dataframe tbody tr th {\n",
       "        vertical-align: top;\n",
       "    }\n",
       "\n",
       "    .dataframe thead th {\n",
       "        text-align: right;\n",
       "    }\n",
       "</style>\n",
       "<table border=\"1\" class=\"dataframe\">\n",
       "  <thead>\n",
       "    <tr style=\"text-align: right;\">\n",
       "      <th></th>\n",
       "      <th>time</th>\n",
       "      <th>signal</th>\n",
       "      <th>denoised_signal</th>\n",
       "      <th>stable</th>\n",
       "      <th>block</th>\n",
       "      <th>block_mean</th>\n",
       "      <th>block_std</th>\n",
       "      <th>min_block_signal</th>\n",
       "      <th>max_block_signal</th>\n",
       "      <th>residual</th>\n",
       "      <th>error</th>\n",
       "      <th>error_std</th>\n",
       "      <th>normalized_signal</th>\n",
       "      <th>outliers</th>\n",
       "      <th>is_weak_outliers</th>\n",
       "      <th>is_avg_outliers</th>\n",
       "      <th>is_strong_outliers</th>\n",
       "    </tr>\n",
       "  </thead>\n",
       "  <tbody>\n",
       "    <tr>\n",
       "      <th>0</th>\n",
       "      <td>500.0001</td>\n",
       "      <td>-2.6498</td>\n",
       "      <td>-2.688964</td>\n",
       "      <td>2</td>\n",
       "      <td>0</td>\n",
       "      <td>-1.098369</td>\n",
       "      <td>0.905024</td>\n",
       "      <td>-3.6062</td>\n",
       "      <td>2.0018</td>\n",
       "      <td>0.001797</td>\n",
       "      <td>-0.042386</td>\n",
       "      <td>0.401972</td>\n",
       "      <td>-1.140755</td>\n",
       "      <td>-0.756022</td>\n",
       "      <td>0</td>\n",
       "      <td>0</td>\n",
       "      <td>0</td>\n",
       "    </tr>\n",
       "    <tr>\n",
       "      <th>1</th>\n",
       "      <td>500.0002</td>\n",
       "      <td>-2.8494</td>\n",
       "      <td>-2.688599</td>\n",
       "      <td>2</td>\n",
       "      <td>0</td>\n",
       "      <td>-1.098369</td>\n",
       "      <td>0.905024</td>\n",
       "      <td>-3.6062</td>\n",
       "      <td>2.0018</td>\n",
       "      <td>0.058572</td>\n",
       "      <td>-0.242017</td>\n",
       "      <td>0.401972</td>\n",
       "      <td>-1.340386</td>\n",
       "      <td>-0.699246</td>\n",
       "      <td>0</td>\n",
       "      <td>0</td>\n",
       "      <td>0</td>\n",
       "    </tr>\n",
       "    <tr>\n",
       "      <th>2</th>\n",
       "      <td>500.0003</td>\n",
       "      <td>-2.8600</td>\n",
       "      <td>-2.688358</td>\n",
       "      <td>2</td>\n",
       "      <td>0</td>\n",
       "      <td>-1.098369</td>\n",
       "      <td>0.905024</td>\n",
       "      <td>-3.6062</td>\n",
       "      <td>2.0018</td>\n",
       "      <td>0.063831</td>\n",
       "      <td>-0.252647</td>\n",
       "      <td>0.401972</td>\n",
       "      <td>-1.351016</td>\n",
       "      <td>-0.693988</td>\n",
       "      <td>0</td>\n",
       "      <td>0</td>\n",
       "      <td>0</td>\n",
       "    </tr>\n",
       "    <tr>\n",
       "      <th>3</th>\n",
       "      <td>500.0004</td>\n",
       "      <td>-2.4350</td>\n",
       "      <td>-2.688329</td>\n",
       "      <td>2</td>\n",
       "      <td>0</td>\n",
       "      <td>-1.098369</td>\n",
       "      <td>0.905024</td>\n",
       "      <td>-3.6062</td>\n",
       "      <td>2.0018</td>\n",
       "      <td>0.029695</td>\n",
       "      <td>0.172322</td>\n",
       "      <td>0.401972</td>\n",
       "      <td>-0.926047</td>\n",
       "      <td>-0.728123</td>\n",
       "      <td>0</td>\n",
       "      <td>0</td>\n",
       "      <td>0</td>\n",
       "    </tr>\n",
       "    <tr>\n",
       "      <th>4</th>\n",
       "      <td>500.0005</td>\n",
       "      <td>-2.6155</td>\n",
       "      <td>-2.688431</td>\n",
       "      <td>2</td>\n",
       "      <td>0</td>\n",
       "      <td>-1.098369</td>\n",
       "      <td>0.905024</td>\n",
       "      <td>-3.6062</td>\n",
       "      <td>2.0018</td>\n",
       "      <td>0.000067</td>\n",
       "      <td>-0.008208</td>\n",
       "      <td>0.401972</td>\n",
       "      <td>-1.106577</td>\n",
       "      <td>-0.757751</td>\n",
       "      <td>0</td>\n",
       "      <td>0</td>\n",
       "      <td>0</td>\n",
       "    </tr>\n",
       "  </tbody>\n",
       "</table>\n",
       "</div>"
      ],
      "text/plain": [
       "       time  signal  denoised_signal  stable  block  block_mean  block_std  \\\n",
       "0  500.0001 -2.6498        -2.688964       2      0   -1.098369   0.905024   \n",
       "1  500.0002 -2.8494        -2.688599       2      0   -1.098369   0.905024   \n",
       "2  500.0003 -2.8600        -2.688358       2      0   -1.098369   0.905024   \n",
       "3  500.0004 -2.4350        -2.688329       2      0   -1.098369   0.905024   \n",
       "4  500.0005 -2.6155        -2.688431       2      0   -1.098369   0.905024   \n",
       "\n",
       "   min_block_signal  max_block_signal  residual     error  error_std  \\\n",
       "0           -3.6062            2.0018  0.001797 -0.042386   0.401972   \n",
       "1           -3.6062            2.0018  0.058572 -0.242017   0.401972   \n",
       "2           -3.6062            2.0018  0.063831 -0.252647   0.401972   \n",
       "3           -3.6062            2.0018  0.029695  0.172322   0.401972   \n",
       "4           -3.6062            2.0018  0.000067 -0.008208   0.401972   \n",
       "\n",
       "   normalized_signal  outliers  is_weak_outliers  is_avg_outliers  \\\n",
       "0          -1.140755 -0.756022                 0                0   \n",
       "1          -1.340386 -0.699246                 0                0   \n",
       "2          -1.351016 -0.693988                 0                0   \n",
       "3          -0.926047 -0.728123                 0                0   \n",
       "4          -1.106577 -0.757751                 0                0   \n",
       "\n",
       "   is_strong_outliers  \n",
       "0                   0  \n",
       "1                   0  \n",
       "2                   0  \n",
       "3                   0  \n",
       "4                   0  "
      ]
     },
     "execution_count": 3,
     "metadata": {},
     "output_type": "execute_result"
    }
   ],
   "source": [
    "df_test.head()"
   ]
  },
  {
   "cell_type": "code",
   "execution_count": 4,
   "metadata": {},
   "outputs": [],
   "source": [
    "for data in [df, df_test]:\n",
    "    for block in np.unique(data.block):\n",
    "        min_ = np.quantile(data.loc[data.block == block, 'signal'], 0.0001).astype(np.float32)\n",
    "        max_ = np.quantile(data.loc[data.block == block, 'signal'], 0.9997).astype(np.float32)\n",
    "        data.loc[data.block == block, 'min_block_signal'] = min_\n",
    "        data.loc[data.block == block, 'max_block_signal'] = max_\n",
    "del data\n",
    "del block"
   ]
  },
  {
   "cell_type": "code",
   "execution_count": 5,
   "metadata": {},
   "outputs": [
    {
     "data": {
      "image/png": "[encoded data removed]",
      "text/plain": [
       "<Figure size 1080x864 with 3 Axes>"
      ]
     },
     "metadata": {
      "needs_background": "light"
     },
     "output_type": "display_data"
    }
   ],
   "source": [
    "fig, ax = plt.subplots(3, 1, figsize=(15, 12))\n",
    "df.open_channels.plot(ax=ax[0])\n",
    "ax[0].grid()\n",
    "df.signal.plot(ax=ax[1])\n",
    "df.denoised_signal.plot(ax=ax[1])\n",
    "df.min_block_signal.plot(ax=ax[1])\n",
    "df.max_block_signal.plot(ax=ax[1])\n",
    "df.block_mean.plot(ax=ax[1])\n",
    "ax[1].grid()\n",
    "df.normalized_signal.plot(ax=ax[2])\n",
    "ax[2].grid()\n",
    "plt.show()"
   ]
  },
  {
   "cell_type": "code",
   "execution_count": 6,
   "metadata": {},
   "outputs": [
    {
     "data": {
      "image/png": "[encoded data removed]",
      "text/plain": [
       "<Figure size 1080x864 with 2 Axes>"
      ]
     },
     "metadata": {
      "needs_background": "light"
     },
     "output_type": "display_data"
    }
   ],
   "source": [
    "fig, ax = plt.subplots(2, 1, figsize=(15, 12))\n",
    "df_test.signal.plot(ax=ax[0])\n",
    "df_test.denoised_signal.plot(ax=ax[0])\n",
    "df_test.min_block_signal.plot(ax=ax[0])\n",
    "df_test.max_block_signal.plot(ax=ax[0])\n",
    "df_test.block_mean.plot(ax=ax[0])\n",
    "ax[0].grid()\n",
    "df_test.normalized_signal.plot(ax=ax[1])\n",
    "ax[1].grid()\n",
    "plt.show()"
   ]
  },
  {
   "cell_type": "markdown",
   "metadata": {},
   "source": [
    "### 2.a Using all training data to fit. Predict testing data  "
   ]
  },
  {
   "cell_type": "code",
   "execution_count": 7,
   "metadata": {},
   "outputs": [
    {
     "name": "stdout",
     "output_type": "stream",
     "text": [
      "                            df: 686.6 MiB\n",
      "                       df_test: 259.4 MiB\n",
      "                           _i7:  1.4 KiB\n",
      "                         KFold:  1.0 KiB\n",
      "                  GridSearchCV:  1.0 KiB\n",
      "                  MinMaxScaler:  1.0 KiB\n",
      "        RandomForestClassifier:  1.0 KiB\n",
      "         RandomForestRegressor:  1.0 KiB\n",
      "          KNeighborsClassifier:  1.0 KiB\n",
      "                           SVC:  1.0 KiB\n",
      "---------------\n",
      "Starting memory usage for matrix: 720000128\n",
      "Ending memory usage for matrix: 270000128\n",
      "Starting memory usage for matrix: 272000128\n",
      "Ending memory usage for matrix: 106000128\n",
      "---------------\n",
      "                            df: 257.5 MiB\n",
      "                       df_test: 101.1 MiB\n",
      "                           _i7:  1.4 KiB\n",
      "                         KFold:  1.0 KiB\n",
      "                  GridSearchCV:  1.0 KiB\n",
      "                  MinMaxScaler:  1.0 KiB\n",
      "        RandomForestClassifier:  1.0 KiB\n",
      "         RandomForestRegressor:  1.0 KiB\n",
      "          KNeighborsClassifier:  1.0 KiB\n",
      "                           SVC:  1.0 KiB\n"
     ]
    }
   ],
   "source": [
    "import sys\n",
    "def sizeof_fmt(num, suffix='B'):\n",
    "    ''' by Fred Cirera,  https://stackoverflow.com/a/1094933/1870254, modified'''\n",
    "    for unit in ['','Ki','Mi','Gi','Ti','Pi','Ei','Zi']:\n",
    "        if abs(num) < 1024.0:\n",
    "            return \"%3.1f %s%s\" % (num, unit, suffix)\n",
    "        num /= 1024.0\n",
    "    return \"%.1f %s%s\" % (num, 'Yi', suffix)\n",
    "\n",
    "def reduce():\n",
    "    for data in [df, df_test]:\n",
    "        print('Starting memory usage for matrix: {}'.format(np.sum(data.memory_usage())))\n",
    "        for col in data.columns:\n",
    "            col_mem_usage = data.memory_usage()[col]\n",
    "            if col in ['stable', 'open_channels', 'block', 'is_weak_outliers', 'is_avg_outliers', 'is_strong_outliers']:\n",
    "                data[col] = data[col].astype(np.int8)\n",
    "            else:\n",
    "                data[col] = data[col].astype(np.float32)\n",
    "        print('Ending memory usage for matrix: {}'.format(np.sum(data.memory_usage())))\n",
    "    del data\n",
    "\n",
    "for name, size in sorted(((name, sys.getsizeof(value)) for name, value in locals().items()),\n",
    "                         key= lambda x: -x[1])[:10]:\n",
    "    print(\"{:>30}: {:>8}\".format(name, sizeof_fmt(size)))\n",
    "\n",
    "print('---------------')\n",
    "reduce()\n",
    "print('---------------')\n",
    "\n",
    "for name, size in sorted(((name, sys.getsizeof(value)) for name, value in locals().items()),\n",
    "                         key= lambda x: -x[1])[:10]:\n",
    "    print(\"{:>30}: {:>8}\".format(name, sizeof_fmt(size)))"
   ]
  },
  {
   "cell_type": "code",
   "execution_count": 16,
   "metadata": {},
   "outputs": [
    {
     "data": {
      "text/html": [
       "<div>\n",
       "<style scoped>\n",
       "    .dataframe tbody tr th:only-of-type {\n",
       "        vertical-align: middle;\n",
       "    }\n",
       "\n",
       "    .dataframe tbody tr th {\n",
       "        vertical-align: top;\n",
       "    }\n",
       "\n",
       "    .dataframe thead th {\n",
       "        text-align: right;\n",
       "    }\n",
       "</style>\n",
       "<table border=\"1\" class=\"dataframe\">\n",
       "  <thead>\n",
       "    <tr style=\"text-align: right;\">\n",
       "      <th></th>\n",
       "      <th>time</th>\n",
       "      <th>open_channels</th>\n",
       "    </tr>\n",
       "  </thead>\n",
       "  <tbody>\n",
       "    <tr>\n",
       "      <th>0</th>\n",
       "      <td>500.0001</td>\n",
       "      <td>0</td>\n",
       "    </tr>\n",
       "    <tr>\n",
       "      <th>1</th>\n",
       "      <td>500.0002</td>\n",
       "      <td>0</td>\n",
       "    </tr>\n",
       "    <tr>\n",
       "      <th>2</th>\n",
       "      <td>500.0003</td>\n",
       "      <td>0</td>\n",
       "    </tr>\n",
       "    <tr>\n",
       "      <th>3</th>\n",
       "      <td>500.0004</td>\n",
       "      <td>0</td>\n",
       "    </tr>\n",
       "    <tr>\n",
       "      <th>4</th>\n",
       "      <td>500.0005</td>\n",
       "      <td>0</td>\n",
       "    </tr>\n",
       "  </tbody>\n",
       "</table>\n",
       "</div>"
      ],
      "text/plain": [
       "       time  open_channels\n",
       "0  500.0001              0\n",
       "1  500.0002              0\n",
       "2  500.0003              0\n",
       "3  500.0004              0\n",
       "4  500.0005              0"
      ]
     },
     "execution_count": 16,
     "metadata": {},
     "output_type": "execute_result"
    }
   ],
   "source": [
    "sample = pd.read_csv('submission.csv')\n",
    "# sample['open_channels'] = y_hat_test\n",
    "# sample.to_csv('my_submission2.csv', index = False, float_format='%.4f')\n",
    "sample.head()"
   ]
  },
  {
   "cell_type": "code",
   "execution_count": 11,
   "metadata": {},
   "outputs": [],
   "source": [
    "def get_data(train, test, sample):\n",
    "    train_feat = train.drop(['open_channels', 'time', 'block'], axis=1)\n",
    "    test_feat = test.drop(['time', 'block'], axis=1)\n",
    "    X_train, y_train = train_feat.values, train['open_channels'].values\n",
    "    X_test, y_test = test_feat.values, sample.open_channels\n",
    "\n",
    "    scaler = MinMaxScaler()\n",
    "    X_train = scaler.fit_transform(X_train)\n",
    "    X_test = scaler.transform(X_test)\n",
    "    \n",
    "    del train_feat\n",
    "    del test_feat\n",
    "    \n",
    "    return X_train, y_train, X_test, y_test\n",
    "\n",
    "def evaluate(prm, X_train, y_train, X_test, y_test):\n",
    "    model = RandomForestClassifier(**prm)\n",
    "    model.fit(X_train, y_train)\n",
    "\n",
    "    y_hat = model.predict(X_test).astype(np.int8)\n",
    "    return model, y_hat"
   ]
  },
  {
   "cell_type": "code",
   "execution_count": 19,
   "metadata": {},
   "outputs": [
    {
     "name": "stdout",
     "output_type": "stream",
     "text": [
      "Starting iter 1 out of 16\n",
      "Parametes: {'n_estimators': 16, 'max_depth': 10, 'n_jobs': -1}\n",
      "Test metrics:\tA: 0.8\tF: 0.832\n",
      "----------------------------\n",
      "Starting iter 2 out of 16\n",
      "Parametes: {'n_estimators': 32, 'max_depth': 10, 'n_jobs': -1}\n",
      "Test metrics:\tA: 0.762\tF: 0.81\n",
      "----------------------------\n",
      "Starting iter 3 out of 16\n",
      "Parametes: {'n_estimators': 64, 'max_depth': 10, 'n_jobs': -1}\n",
      "Test metrics:\tA: 0.766\tF: 0.824\n",
      "----------------------------\n",
      "Starting iter 4 out of 16\n",
      "Parametes: {'n_estimators': 128, 'max_depth': 10, 'n_jobs': -1}\n",
      "Test metrics:\tA: 0.798\tF: 0.827\n",
      "----------------------------\n",
      "Starting iter 5 out of 16\n",
      "Parametes: {'n_estimators': 16, 'max_depth': 20, 'n_jobs': -1}\n",
      "Test metrics:\tA: 0.799\tF: 0.743\n",
      "----------------------------\n",
      "Starting iter 6 out of 16\n",
      "Parametes: {'n_estimators': 32, 'max_depth': 20, 'n_jobs': -1}\n",
      "Test metrics:\tA: 0.8\tF: 0.798\n",
      "----------------------------\n",
      "Starting iter 7 out of 16\n",
      "Parametes: {'n_estimators': 64, 'max_depth': 20, 'n_jobs': -1}\n",
      "Test metrics:\tA: 0.776\tF: 0.782\n",
      "----------------------------\n",
      "Starting iter 8 out of 16\n",
      "Parametes: {'n_estimators': 128, 'max_depth': 20, 'n_jobs': -1}\n",
      "Test metrics:\tA: 0.869\tF: 0.83\n",
      "----------------------------\n",
      "Starting iter 9 out of 16\n",
      "Parametes: {'n_estimators': 16, 'max_depth': 40, 'n_jobs': -1}\n",
      "Test metrics:\tA: 0.722\tF: 0.633\n",
      "----------------------------\n",
      "Starting iter 10 out of 16\n",
      "Parametes: {'n_estimators': 32, 'max_depth': 40, 'n_jobs': -1}\n",
      "Test metrics:\tA: 0.741\tF: 0.665\n",
      "----------------------------\n",
      "Starting iter 11 out of 16\n",
      "Parametes: {'n_estimators': 64, 'max_depth': 40, 'n_jobs': -1}\n",
      "Test metrics:\tA: 0.743\tF: 0.72\n",
      "----------------------------\n",
      "Starting iter 12 out of 16\n",
      "Parametes: {'n_estimators': 128, 'max_depth': 40, 'n_jobs': -1}\n",
      "Test metrics:\tA: 0.729\tF: 0.7\n",
      "----------------------------\n",
      "Starting iter 13 out of 16\n",
      "Parametes: {'n_estimators': 16, 'max_depth': 80, 'n_jobs': -1}\n",
      "Test metrics:\tA: 0.707\tF: 0.71\n",
      "----------------------------\n",
      "Starting iter 14 out of 16\n",
      "Parametes: {'n_estimators': 32, 'max_depth': 80, 'n_jobs': -1}\n",
      "Test metrics:\tA: 0.758\tF: 0.713\n",
      "----------------------------\n",
      "Starting iter 15 out of 16\n",
      "Parametes: {'n_estimators': 64, 'max_depth': 80, 'n_jobs': -1}\n",
      "Test metrics:\tA: 0.763\tF: 0.713\n",
      "----------------------------\n",
      "Starting iter 16 out of 16\n",
      "Parametes: {'n_estimators': 128, 'max_depth': 80, 'n_jobs': -1}\n",
      "Probable out of emory reached. Interrupting...\n"
     ]
    }
   ],
   "source": [
    "params = [{'n_estimators': 16,  'max_depth': 10, 'n_jobs': -1},\n",
    "          {'n_estimators': 32,  'max_depth': 10, 'n_jobs': -1}, \n",
    "          {'n_estimators': 64,  'max_depth': 10, 'n_jobs': -1}, \n",
    "          {'n_estimators': 128, 'max_depth': 10, 'n_jobs': -1},\n",
    "          {'n_estimators': 16,  'max_depth': 20, 'n_jobs': -1},\n",
    "          {'n_estimators': 32,  'max_depth': 20, 'n_jobs': -1}, \n",
    "          {'n_estimators': 64,  'max_depth': 20, 'n_jobs': -1}, \n",
    "          {'n_estimators': 128, 'max_depth': 20, 'n_jobs': -1},\n",
    "          {'n_estimators': 16,  'max_depth': 40, 'n_jobs': -1},\n",
    "          {'n_estimators': 32,  'max_depth': 40, 'n_jobs': -1}, \n",
    "          {'n_estimators': 64,  'max_depth': 40, 'n_jobs': -1}, \n",
    "          {'n_estimators': 128, 'max_depth': 40, 'n_jobs': -1},\n",
    "          {'n_estimators': 16,  'max_depth': 80, 'n_jobs': -1},\n",
    "          {'n_estimators': 32,  'max_depth': 80, 'n_jobs': -1}, \n",
    "          {'n_estimators': 64,  'max_depth': 80, 'n_jobs': -1}, \n",
    "          {'n_estimators': 128, 'max_depth': 80, 'n_jobs': -1}]\n",
    "\n",
    "\n",
    "\n",
    "models, res = [], []\n",
    "for n, prm in enumerate(params):\n",
    "    try:\n",
    "        print('Starting iter {} out of {}'.format(n+1, len(params)))\n",
    "        print('Parametes: {}'.format(prm))\n",
    "\n",
    "        X_train, y_train, X_test, y_test = get_data(df, df_test, sample)\n",
    "        model, y_hat = evaluate(prm, X_train, y_train, X_test, y_test)\n",
    "        models.append(model)\n",
    "        acc = np.round(accuracy_score(y_hat, y_test), 3)\n",
    "        f1 = np.round(f1_score(y_hat, y_test, average='macro'), 3)\n",
    "        res.append((f1, acc))\n",
    "\n",
    "\n",
    "        print('Test metrics:\\tA: {}\\tF: {}'.format(acc, f1))\n",
    "        print('----------------------------')\n",
    "\n",
    "        del f1\n",
    "        del acc\n",
    "        del  X_train\n",
    "        del y_train\n",
    "        del X_test\n",
    "        del y_test\n",
    "        del prm\n",
    "\n",
    "    except:\n",
    "        print('Probable out of emory reached. Interrupting...')\n",
    "        break"
   ]
  },
  {
   "cell_type": "code",
   "execution_count": 15,
   "metadata": {},
   "outputs": [
    {
     "name": "stderr",
     "output_type": "stream",
     "text": [
      "[Parallel(n_jobs=-1)]: Using backend ThreadingBackend with 4 concurrent workers.\n"
     ]
    },
    {
     "name": "stdout",
     "output_type": "stream",
     "text": [
      "building tree 1 of 32building tree 2 of 32\n",
      "building tree 3 of 32\n",
      "\n",
      "building tree 4 of 32\n",
      "building tree 5 of 32\n",
      "building tree 6 of 32\n",
      "building tree 7 of 32\n",
      "building tree 8 of 32\n",
      "building tree 9 of 32\n",
      "building tree 10 of 32\n",
      "building tree 11 of 32\n",
      "building tree 12 of 32\n",
      "building tree 13 of 32\n",
      "building tree 14 of 32\n",
      "building tree 15 of 32\n",
      "building tree 16 of 32\n",
      "building tree 17 of 32\n",
      "building tree 18 of 32\n",
      "building tree 19 of 32\n",
      "building tree 20 of 32\n",
      "building tree 21 of 32\n",
      "building tree 22 of 32\n",
      "building tree 23 of 32\n",
      "building tree 24 of 32\n",
      "building tree 25 of 32\n",
      "building tree 26 of 32\n",
      "building tree 27 of 32\n",
      "building tree 28 of 32\n",
      "building tree 29 of 32\n",
      "building tree 30 of 32\n",
      "building tree 31 of 32\n",
      "building tree 32 of 32\n"
     ]
    },
    {
     "name": "stderr",
     "output_type": "stream",
     "text": [
      "[Parallel(n_jobs=-1)]: Done  32 out of  32 | elapsed:  3.5min finished\n",
      "[Parallel(n_jobs=4)]: Using backend ThreadingBackend with 4 concurrent workers.\n",
      "[Parallel(n_jobs=4)]: Done  32 out of  32 | elapsed:   22.6s finished\n",
      "[Parallel(n_jobs=4)]: Using backend ThreadingBackend with 4 concurrent workers.\n",
      "[Parallel(n_jobs=4)]: Done  32 out of  32 | elapsed:    8.4s finished\n"
     ]
    },
    {
     "name": "stdout",
     "output_type": "stream",
     "text": [
      "Train metrics:\tA: 0.96\tF: 0.926\n",
      "Test metrics:\tA: 0.82\tF: 0.843\n"
     ]
    },
    {
     "data": {
      "image/png": "[encoded data removed]",
      "text/plain": [
       "<Figure size 1080x576 with 1 Axes>"
      ]
     },
     "metadata": {
      "needs_background": "light"
     },
     "output_type": "display_data"
    }
   ],
   "source": [
    "train_feat = df.drop(['open_channels', 'time', 'block'], axis=1)\n",
    "test_feat = df_test.drop(['time', 'block'], axis=1)\n",
    "\n",
    "X_train, y_train = train_feat.values, df['open_channels'].values\n",
    "X_test, y_test = test_feat.values, sample.open_channels\n",
    "\n",
    "scaler = MinMaxScaler()\n",
    "X_train = scaler.fit_transform(X_train)\n",
    "X_test = scaler.transform(X_test)\n",
    "\n",
    "model = RandomForestClassifier(n_estimators = 32, n_jobs=-1, verbose=2, max_depth = 10)\n",
    "model.fit(X_train, y_train)\n",
    "\n",
    "y_hat_train, y_hat_test = model.predict(X_train).astype(np.int8), model.predict(X_test).astype(np.int8)\n",
    "\n",
    "print('Train metrics:\\tA: {}\\tF: {}'.format(np.round(accuracy_score(y_hat_train, y_train), 3), \n",
    "                                            np.round(f1_score(y_hat_train, y_train, average='macro'), 3)))\n",
    "print('Test metrics:\\tA: {}\\tF: {}'.format(np.round(accuracy_score(y_hat_test, y_test), 3), \n",
    "                                            np.round(f1_score(y_hat_test, y_test, average='macro'), 3)))\n",
    "\n",
    "feat_imp = sorted(zip(model.feature_importances_, train_feat.columns), reverse = True)\n",
    "name, value = [i[1] for i in feat_imp], [i[0] for i in feat_imp]\n",
    "\n",
    "plt.figure(figsize=(15, 8))\n",
    "plt.bar(name, value)\n",
    "plt.xticks(name, rotation=90)\n",
    "plt.grid()\n",
    "plt.show()"
   ]
  },
  {
   "cell_type": "markdown",
   "metadata": {},
   "source": [
    "### 2.c Visualize the results"
   ]
  },
  {
   "cell_type": "code",
   "execution_count": 18,
   "metadata": {},
   "outputs": [
    {
     "data": {
      "text/html": [
       "<div>\n",
       "<style scoped>\n",
       "    .dataframe tbody tr th:only-of-type {\n",
       "        vertical-align: middle;\n",
       "    }\n",
       "\n",
       "    .dataframe tbody tr th {\n",
       "        vertical-align: top;\n",
       "    }\n",
       "\n",
       "    .dataframe thead th {\n",
       "        text-align: right;\n",
       "    }\n",
       "</style>\n",
       "<table border=\"1\" class=\"dataframe\">\n",
       "  <thead>\n",
       "    <tr style=\"text-align: right;\">\n",
       "      <th></th>\n",
       "      <th>time</th>\n",
       "      <th>open_channels</th>\n",
       "      <th>my_pred</th>\n",
       "      <th>error</th>\n",
       "    </tr>\n",
       "  </thead>\n",
       "  <tbody>\n",
       "    <tr>\n",
       "      <th>0</th>\n",
       "      <td>500.0001</td>\n",
       "      <td>0</td>\n",
       "      <td>0</td>\n",
       "      <td>0</td>\n",
       "    </tr>\n",
       "    <tr>\n",
       "      <th>1</th>\n",
       "      <td>500.0002</td>\n",
       "      <td>0</td>\n",
       "      <td>0</td>\n",
       "      <td>0</td>\n",
       "    </tr>\n",
       "    <tr>\n",
       "      <th>2</th>\n",
       "      <td>500.0003</td>\n",
       "      <td>0</td>\n",
       "      <td>0</td>\n",
       "      <td>0</td>\n",
       "    </tr>\n",
       "    <tr>\n",
       "      <th>3</th>\n",
       "      <td>500.0004</td>\n",
       "      <td>0</td>\n",
       "      <td>0</td>\n",
       "      <td>0</td>\n",
       "    </tr>\n",
       "    <tr>\n",
       "      <th>4</th>\n",
       "      <td>500.0005</td>\n",
       "      <td>0</td>\n",
       "      <td>0</td>\n",
       "      <td>0</td>\n",
       "    </tr>\n",
       "  </tbody>\n",
       "</table>\n",
       "</div>"
      ],
      "text/plain": [
       "       time  open_channels  my_pred  error\n",
       "0  500.0001              0        0      0\n",
       "1  500.0002              0        0      0\n",
       "2  500.0003              0        0      0\n",
       "3  500.0004              0        0      0\n",
       "4  500.0005              0        0      0"
      ]
     },
     "execution_count": 18,
     "metadata": {},
     "output_type": "execute_result"
    }
   ],
   "source": [
    "sample['my_pred'] = y_hat_test\n",
    "sample['error'] = abs(sample.open_channels - sample.my_pred)\n",
    "sample.head()"
   ]
  },
  {
   "cell_type": "code",
   "execution_count": 25,
   "metadata": {},
   "outputs": [
    {
     "data": {
      "image/png": "[encoded data removed]",
      "text/plain": [
       "<Figure size 1296x576 with 4 Axes>"
      ]
     },
     "metadata": {
      "needs_background": "light"
     },
     "output_type": "display_data"
    }
   ],
   "source": [
    "fig, ax = plt.subplots(2, 2, figsize=(18, 8))\n",
    "ax[0, 0].plot(y_hat_train)\n",
    "ax[0, 0].set_title('Predicted Train')\n",
    "ax[0, 0].grid()\n",
    "ax[0, 1].plot(y_train)\n",
    "ax[0, 0].set_title('True Train')\n",
    "ax[0, 1].grid()\n",
    "ax[1, 0].plot(y_hat_test)\n",
    "ax[0, 0].set_title('Predicted Test')\n",
    "ax[1, 0].grid()\n",
    "ax[1, 1].plot(y_test)\n",
    "ax[0, 0].set_title('True Test')\n",
    "ax[1, 1].grid()\n",
    "plt.show()"
   ]
  },
  {
   "cell_type": "code",
   "execution_count": 24,
   "metadata": {},
   "outputs": [
    {
     "data": {
      "image/png": "[encoded data removed]",
      "text/plain": [
       "<Figure size 1152x792 with 2 Axes>"
      ]
     },
     "metadata": {
      "needs_background": "light"
     },
     "output_type": "display_data"
    }
   ],
   "source": [
    "fig, ax = plt.subplots(2, 1, figsize=(16, 11))\n",
    "\n",
    "ax[0].bar(sample.error.value_counts().index, sample.error.value_counts().values)\n",
    "ax[0].grid()\n",
    "ax[1].plot(sample.error)\n",
    "ax[1].grid()\n",
    "plt.show()"
   ]
  },
  {
   "cell_type": "code",
   "execution_count": 23,
   "metadata": {},
   "outputs": [
    {
     "data": {
      "image/png": "[encoded data removed]",
      "text/plain": [
       "<Figure size 936x936 with 1 Axes>"
      ]
     },
     "metadata": {
      "needs_background": "light"
     },
     "output_type": "display_data"
    }
   ],
   "source": [
    "from sklearn.metrics import confusion_matrix\n",
    "cf = confusion_matrix(sample.my_pred, sample.open_channels)\n",
    "cf_n = cf/np.sum(cf, axis=0)\n",
    "fig, ax = plt.subplots(1, 1, figsize=(13, 13))\n",
    "ax.matshow(cf_n.transpose(), cmap=cm.Blues)\n",
    "for i in range(11):\n",
    "    for j in range(11):\n",
    "        ax.text(i, j, np.round(cf_n[i, j], 3), horizontalalignment='center', verticalalignment='center')\n",
    "plt.show()"
   ]
  },
  {
   "cell_type": "markdown",
   "metadata": {},
   "source": [
    "#### 2.c Save predicted values"
   ]
  },
  {
   "cell_type": "code",
   "execution_count": 22,
   "metadata": {},
   "outputs": [],
   "source": [
    "my_sub = pd.read_csv('submission.csv')\n",
    "my_sub.open_channels = y_hat_test\n",
    "my_sub.to_csv('my_submission3.csv', index=False, float_format='%.4f')"
   ]
  },
  {
   "cell_type": "markdown",
   "metadata": {},
   "source": [
    "### 3. LSTM + Feedforward"
   ]
  },
  {
   "cell_type": "code",
   "execution_count": 3,
   "metadata": {},
   "outputs": [
    {
     "data": {
      "text/html": [
       "<div>\n",
       "<style scoped>\n",
       "    .dataframe tbody tr th:only-of-type {\n",
       "        vertical-align: middle;\n",
       "    }\n",
       "\n",
       "    .dataframe tbody tr th {\n",
       "        vertical-align: top;\n",
       "    }\n",
       "\n",
       "    .dataframe thead th {\n",
       "        text-align: right;\n",
       "    }\n",
       "</style>\n",
       "<table border=\"1\" class=\"dataframe\">\n",
       "  <thead>\n",
       "    <tr style=\"text-align: right;\">\n",
       "      <th></th>\n",
       "      <th>0</th>\n",
       "      <th>1</th>\n",
       "      <th>2</th>\n",
       "      <th>3</th>\n",
       "      <th>4</th>\n",
       "      <th>5</th>\n",
       "      <th>6</th>\n",
       "      <th>7</th>\n",
       "      <th>8</th>\n",
       "      <th>9</th>\n",
       "      <th>mean</th>\n",
       "      <th>stable</th>\n",
       "    </tr>\n",
       "  </thead>\n",
       "  <tbody>\n",
       "    <tr>\n",
       "      <th>0</th>\n",
       "      <td>-2.7586</td>\n",
       "      <td>-2.6682</td>\n",
       "      <td>-2.5935</td>\n",
       "      <td>-2.6993</td>\n",
       "      <td>-2.6418</td>\n",
       "      <td>-3.1525</td>\n",
       "      <td>-3.1404</td>\n",
       "      <td>-2.4074</td>\n",
       "      <td>-2.8557</td>\n",
       "      <td>-2.7600</td>\n",
       "      <td>-2.692259</td>\n",
       "      <td>1.0</td>\n",
       "    </tr>\n",
       "    <tr>\n",
       "      <th>1</th>\n",
       "      <td>-3.1136</td>\n",
       "      <td>-2.7586</td>\n",
       "      <td>-2.6682</td>\n",
       "      <td>-2.5935</td>\n",
       "      <td>-2.6993</td>\n",
       "      <td>-2.6418</td>\n",
       "      <td>-3.1525</td>\n",
       "      <td>-3.1404</td>\n",
       "      <td>-2.4074</td>\n",
       "      <td>-2.8557</td>\n",
       "      <td>-2.692202</td>\n",
       "      <td>1.0</td>\n",
       "    </tr>\n",
       "    <tr>\n",
       "      <th>2</th>\n",
       "      <td>-2.6221</td>\n",
       "      <td>-3.1136</td>\n",
       "      <td>-2.7586</td>\n",
       "      <td>-2.6682</td>\n",
       "      <td>-2.5935</td>\n",
       "      <td>-2.6993</td>\n",
       "      <td>-2.6418</td>\n",
       "      <td>-3.1525</td>\n",
       "      <td>-3.1404</td>\n",
       "      <td>-2.4074</td>\n",
       "      <td>-2.692553</td>\n",
       "      <td>1.0</td>\n",
       "    </tr>\n",
       "    <tr>\n",
       "      <th>3</th>\n",
       "      <td>-2.7316</td>\n",
       "      <td>-2.6221</td>\n",
       "      <td>-3.1136</td>\n",
       "      <td>-2.7586</td>\n",
       "      <td>-2.6682</td>\n",
       "      <td>-2.5935</td>\n",
       "      <td>-2.6993</td>\n",
       "      <td>-2.6418</td>\n",
       "      <td>-3.1525</td>\n",
       "      <td>-3.1404</td>\n",
       "      <td>-2.692314</td>\n",
       "      <td>1.0</td>\n",
       "    </tr>\n",
       "    <tr>\n",
       "      <th>4</th>\n",
       "      <td>-2.9028</td>\n",
       "      <td>-2.7316</td>\n",
       "      <td>-2.6221</td>\n",
       "      <td>-3.1136</td>\n",
       "      <td>-2.7586</td>\n",
       "      <td>-2.6682</td>\n",
       "      <td>-2.5935</td>\n",
       "      <td>-2.6993</td>\n",
       "      <td>-2.6418</td>\n",
       "      <td>-3.1525</td>\n",
       "      <td>-2.692246</td>\n",
       "      <td>1.0</td>\n",
       "    </tr>\n",
       "  </tbody>\n",
       "</table>\n",
       "</div>"
      ],
      "text/plain": [
       "        0       1       2       3       4       5       6       7       8  \\\n",
       "0 -2.7586 -2.6682 -2.5935 -2.6993 -2.6418 -3.1525 -3.1404 -2.4074 -2.8557   \n",
       "1 -3.1136 -2.7586 -2.6682 -2.5935 -2.6993 -2.6418 -3.1525 -3.1404 -2.4074   \n",
       "2 -2.6221 -3.1136 -2.7586 -2.6682 -2.5935 -2.6993 -2.6418 -3.1525 -3.1404   \n",
       "3 -2.7316 -2.6221 -3.1136 -2.7586 -2.6682 -2.5935 -2.6993 -2.6418 -3.1525   \n",
       "4 -2.9028 -2.7316 -2.6221 -3.1136 -2.7586 -2.6682 -2.5935 -2.6993 -2.6418   \n",
       "\n",
       "        9      mean  stable  \n",
       "0 -2.7600 -2.692259     1.0  \n",
       "1 -2.8557 -2.692202     1.0  \n",
       "2 -2.4074 -2.692553     1.0  \n",
       "3 -3.1404 -2.692314     1.0  \n",
       "4 -3.1525 -2.692246     1.0  "
      ]
     },
     "execution_count": 3,
     "metadata": {},
     "output_type": "execute_result"
    }
   ],
   "source": [
    "mat = np.zeros((df.shape[0], 12))\n",
    "for i in range(10):\n",
    "    mat[:, i] = df.shift(i).signal\n",
    "mat[:, 10] = df.signal_mean\n",
    "mat[:, 11] = df.stable\n",
    "df_mat = pd.DataFrame(mat[9:, :], columns=[str(i) for i in range(10)]+['mean', 'stable'])\n",
    "df_mat.head()"
   ]
  },
  {
   "cell_type": "code",
   "execution_count": 5,
   "metadata": {},
   "outputs": [],
   "source": [
    "class NN(nn.Module):\n",
    "    \n",
    "    def __init__(self):\n",
    "        super(NN, self).__init__()\n",
    "        self.rnn = nn.GRU(input_size=1, hidden_size=4, num_layers=2, batch_first=True)\n",
    "        \n",
    "        self.l1a = nn.Linear(4, 6)\n",
    "        self.l1b = nn.Linear(2, 5)\n",
    "        \n",
    "        self.l2 = nn.Linear(11, 30)\n",
    "        self.l3 = nn.Linear(30, 20)\n",
    "        self.l4 = nn.Linear(20, 11)\n",
    "        \n",
    "    def forward(self, x1, x2):\n",
    "        # Signal\n",
    "        x1, _ = self.rnn(x1)\n",
    "        x1  = F.relu(self.l1a(x1[:, -1, :]))\n",
    "        # Add_info\n",
    "        x2  = F.relu(self.l1b(x2))\n",
    "        x = torch.cat([x1, x2], dim=1)\n",
    "        # Feed-Forward\n",
    "        x  = F.relu(self.l2(x))\n",
    "        x  = F.relu(self.l3(x))\n",
    "        out  = self.l4(x)\n",
    "        return out"
   ]
  },
  {
   "cell_type": "code",
   "execution_count": 6,
   "metadata": {},
   "outputs": [],
   "source": [
    "net = NN()\n",
    "optimizer = optim.Adam(net.parameters(), lr=0.0001)\n",
    "loss_fn = nn.CrossEntropyLoss()\n",
    "\n",
    "device = torch.device('cuda')\n",
    "net = net.to(device)\n",
    "if type(X_train1) != torch.Tensor:\n",
    "    X_train1, X_train2 = torch.tensor(X_train1).to(device), torch.tensor(X_train2).to(device)\n",
    "    X_test1, X_test2 = torch.tensor(X_test1).to(device), torch.tensor(X_test2).to(device)\n",
    "    y_train, y_test = torch.tensor(y_train).to(device), torch.tensor(y_test).to(device)"
   ]
  },
  {
   "cell_type": "code",
   "execution_count": 7,
   "metadata": {},
   "outputs": [
    {
     "name": "stderr",
     "output_type": "stream",
     "text": [
      "100%|██████████████████████████████████████████████████████████████████████████████| 1674/1674 [00:49<00:00, 34.08it/s]\n"
     ]
    },
    {
     "name": "stdout",
     "output_type": "stream",
     "text": [
      "Epoch: 0\ttrain_loss: 2.1499\tval_loss: 2.0165998935699463\tf1: 0.036\n"
     ]
    },
    {
     "name": "stderr",
     "output_type": "stream",
     "text": [
      "100%|██████████████████████████████████████████████████████████████████████████████| 1674/1674 [00:48<00:00, 34.40it/s]\n"
     ]
    },
    {
     "name": "stdout",
     "output_type": "stream",
     "text": [
      "Epoch: 1\ttrain_loss: 1.7873\tval_loss: 1.587399959564209\tf1: 0.137\n"
     ]
    },
    {
     "name": "stderr",
     "output_type": "stream",
     "text": [
      "100%|██████████████████████████████████████████████████████████████████████████████| 1674/1674 [00:48<00:00, 34.51it/s]\n"
     ]
    },
    {
     "name": "stdout",
     "output_type": "stream",
     "text": [
      "Epoch: 2\ttrain_loss: 1.5928\tval_loss: 1.7285000085830688\tf1: 0.138\n"
     ]
    },
    {
     "name": "stderr",
     "output_type": "stream",
     "text": [
      "100%|██████████████████████████████████████████████████████████████████████████████| 1674/1674 [00:49<00:00, 34.14it/s]\n"
     ]
    },
    {
     "name": "stdout",
     "output_type": "stream",
     "text": [
      "Epoch: 3\ttrain_loss: 1.5671\tval_loss: 1.5325000286102295\tf1: 0.153\n"
     ]
    },
    {
     "name": "stderr",
     "output_type": "stream",
     "text": [
      "100%|██████████████████████████████████████████████████████████████████████████████| 1674/1674 [00:48<00:00, 34.46it/s]\n"
     ]
    },
    {
     "name": "stdout",
     "output_type": "stream",
     "text": [
      "Epoch: 4\ttrain_loss: 1.4862\tval_loss: 1.4744999408721924\tf1: 0.168\n"
     ]
    },
    {
     "name": "stderr",
     "output_type": "stream",
     "text": [
      "100%|██████████████████████████████████████████████████████████████████████████████| 1674/1674 [00:48<00:00, 34.31it/s]\n"
     ]
    },
    {
     "name": "stdout",
     "output_type": "stream",
     "text": [
      "Epoch: 5\ttrain_loss: 1.4229\tval_loss: 1.405900001525879\tf1: 0.209\n"
     ]
    },
    {
     "name": "stderr",
     "output_type": "stream",
     "text": [
      "100%|██████████████████████████████████████████████████████████████████████████████| 1674/1674 [00:49<00:00, 34.06it/s]\n"
     ]
    },
    {
     "name": "stdout",
     "output_type": "stream",
     "text": [
      "Epoch: 6\ttrain_loss: 1.3888\tval_loss: 1.3634999990463257\tf1: 0.214\n"
     ]
    },
    {
     "name": "stderr",
     "output_type": "stream",
     "text": [
      "100%|██████████████████████████████████████████████████████████████████████████████| 1674/1674 [00:48<00:00, 34.22it/s]\n"
     ]
    },
    {
     "name": "stdout",
     "output_type": "stream",
     "text": [
      "Epoch: 7\ttrain_loss: 1.3629\tval_loss: 1.3214000463485718\tf1: 0.245\n"
     ]
    },
    {
     "name": "stderr",
     "output_type": "stream",
     "text": [
      "100%|██████████████████████████████████████████████████████████████████████████████| 1674/1674 [00:48<00:00, 34.53it/s]\n"
     ]
    },
    {
     "name": "stdout",
     "output_type": "stream",
     "text": [
      "Epoch: 8\ttrain_loss: 1.3448\tval_loss: 1.308500051498413\tf1: 0.251\n"
     ]
    },
    {
     "name": "stderr",
     "output_type": "stream",
     "text": [
      "100%|██████████████████████████████████████████████████████████████████████████████| 1674/1674 [00:48<00:00, 34.50it/s]\n"
     ]
    },
    {
     "name": "stdout",
     "output_type": "stream",
     "text": [
      "Epoch: 9\ttrain_loss: 1.3138\tval_loss: 1.2930999994277954\tf1: 0.275\n"
     ]
    },
    {
     "name": "stderr",
     "output_type": "stream",
     "text": [
      "100%|██████████████████████████████████████████████████████████████████████████████| 1674/1674 [00:48<00:00, 34.52it/s]\n"
     ]
    },
    {
     "name": "stdout",
     "output_type": "stream",
     "text": [
      "Epoch: 10\ttrain_loss: 1.2631\tval_loss: 1.2122000455856323\tf1: 0.356\n"
     ]
    },
    {
     "name": "stderr",
     "output_type": "stream",
     "text": [
      "100%|██████████████████████████████████████████████████████████████████████████████| 1674/1674 [00:48<00:00, 34.51it/s]\n"
     ]
    },
    {
     "name": "stdout",
     "output_type": "stream",
     "text": [
      "Epoch: 11\ttrain_loss: 1.1919\tval_loss: 1.1735999584197998\tf1: 0.338\n"
     ]
    },
    {
     "name": "stderr",
     "output_type": "stream",
     "text": [
      "100%|██████████████████████████████████████████████████████████████████████████████| 1674/1674 [00:48<00:00, 34.56it/s]\n"
     ]
    },
    {
     "name": "stdout",
     "output_type": "stream",
     "text": [
      "Epoch: 12\ttrain_loss: 1.126\tval_loss: 1.1404999494552612\tf1: 0.311\n"
     ]
    },
    {
     "name": "stderr",
     "output_type": "stream",
     "text": [
      "100%|██████████████████████████████████████████████████████████████████████████████| 1674/1674 [00:48<00:00, 34.77it/s]\n"
     ]
    },
    {
     "name": "stdout",
     "output_type": "stream",
     "text": [
      "Epoch: 13\ttrain_loss: 1.0909\tval_loss: 1.1318999528884888\tf1: 0.335\n"
     ]
    },
    {
     "name": "stderr",
     "output_type": "stream",
     "text": [
      "100%|██████████████████████████████████████████████████████████████████████████████| 1674/1674 [00:48<00:00, 34.35it/s]\n"
     ]
    },
    {
     "name": "stdout",
     "output_type": "stream",
     "text": [
      "Epoch: 14\ttrain_loss: 1.0554\tval_loss: 1.0153000354766846\tf1: 0.393\n"
     ]
    },
    {
     "name": "stderr",
     "output_type": "stream",
     "text": [
      "100%|██████████████████████████████████████████████████████████████████████████████| 1674/1674 [00:47<00:00, 34.91it/s]\n"
     ]
    },
    {
     "name": "stdout",
     "output_type": "stream",
     "text": [
      "Epoch: 15\ttrain_loss: 1.0432\tval_loss: 1.0033999681472778\tf1: 0.426\n"
     ]
    },
    {
     "name": "stderr",
     "output_type": "stream",
     "text": [
      "100%|██████████████████████████████████████████████████████████████████████████████| 1674/1674 [00:48<00:00, 34.86it/s]\n"
     ]
    },
    {
     "name": "stdout",
     "output_type": "stream",
     "text": [
      "Epoch: 16\ttrain_loss: 1.0369\tval_loss: 0.9692999720573425\tf1: 0.428\n"
     ]
    },
    {
     "name": "stderr",
     "output_type": "stream",
     "text": [
      "100%|██████████████████████████████████████████████████████████████████████████████| 1674/1674 [00:48<00:00, 34.61it/s]\n"
     ]
    },
    {
     "name": "stdout",
     "output_type": "stream",
     "text": [
      "Epoch: 17\ttrain_loss: 1.0461\tval_loss: 0.9993000030517578\tf1: 0.456\n"
     ]
    },
    {
     "name": "stderr",
     "output_type": "stream",
     "text": [
      "100%|██████████████████████████████████████████████████████████████████████████████| 1674/1674 [00:48<00:00, 34.87it/s]\n"
     ]
    },
    {
     "name": "stdout",
     "output_type": "stream",
     "text": [
      "Epoch: 18\ttrain_loss: 1.0554\tval_loss: 1.0020999908447266\tf1: 0.478\n"
     ]
    },
    {
     "name": "stderr",
     "output_type": "stream",
     "text": [
      "100%|██████████████████████████████████████████████████████████████████████████████| 1674/1674 [00:47<00:00, 35.18it/s]\n"
     ]
    },
    {
     "name": "stdout",
     "output_type": "stream",
     "text": [
      "Epoch: 19\ttrain_loss: 1.0213\tval_loss: 1.0492000579833984\tf1: 0.393\n"
     ]
    },
    {
     "name": "stderr",
     "output_type": "stream",
     "text": [
      "100%|██████████████████████████████████████████████████████████████████████████████| 1674/1674 [00:50<00:00, 33.20it/s]\n"
     ]
    },
    {
     "name": "stdout",
     "output_type": "stream",
     "text": [
      "Epoch: 20\ttrain_loss: 0.9999\tval_loss: 0.9348000288009644\tf1: 0.434\n"
     ]
    },
    {
     "name": "stderr",
     "output_type": "stream",
     "text": [
      "100%|██████████████████████████████████████████████████████████████████████████████| 1674/1674 [00:51<00:00, 32.60it/s]\n"
     ]
    },
    {
     "name": "stdout",
     "output_type": "stream",
     "text": [
      "Epoch: 21\ttrain_loss: 0.9788\tval_loss: 0.9553999900817871\tf1: 0.483\n"
     ]
    },
    {
     "name": "stderr",
     "output_type": "stream",
     "text": [
      "100%|██████████████████████████████████████████████████████████████████████████████| 1674/1674 [00:49<00:00, 33.99it/s]\n"
     ]
    },
    {
     "name": "stdout",
     "output_type": "stream",
     "text": [
      "Epoch: 22\ttrain_loss: 0.9341\tval_loss: 0.9287999868392944\tf1: 0.506\n"
     ]
    },
    {
     "name": "stderr",
     "output_type": "stream",
     "text": [
      "100%|██████████████████████████████████████████████████████████████████████████████| 1674/1674 [00:49<00:00, 34.11it/s]\n"
     ]
    },
    {
     "name": "stdout",
     "output_type": "stream",
     "text": [
      "Epoch: 23\ttrain_loss: 0.9006\tval_loss: 0.8669999837875366\tf1: 0.538\n"
     ]
    },
    {
     "name": "stderr",
     "output_type": "stream",
     "text": [
      "100%|██████████████████████████████████████████████████████████████████████████████| 1674/1674 [00:48<00:00, 34.65it/s]\n"
     ]
    },
    {
     "name": "stdout",
     "output_type": "stream",
     "text": [
      "Epoch: 24\ttrain_loss: 0.9167\tval_loss: 0.91839998960495\tf1: 0.481\n"
     ]
    },
    {
     "name": "stderr",
     "output_type": "stream",
     "text": [
      "100%|██████████████████████████████████████████████████████████████████████████████| 1674/1674 [00:48<00:00, 34.33it/s]\n"
     ]
    },
    {
     "name": "stdout",
     "output_type": "stream",
     "text": [
      "Epoch: 25\ttrain_loss: 0.9371\tval_loss: 1.0463999509811401\tf1: 0.466\n"
     ]
    },
    {
     "name": "stderr",
     "output_type": "stream",
     "text": [
      "100%|██████████████████████████████████████████████████████████████████████████████| 1674/1674 [00:48<00:00, 34.81it/s]\n"
     ]
    },
    {
     "name": "stdout",
     "output_type": "stream",
     "text": [
      "Epoch: 26\ttrain_loss: 0.9692\tval_loss: 0.8977000117301941\tf1: 0.503\n"
     ]
    },
    {
     "name": "stderr",
     "output_type": "stream",
     "text": [
      "100%|██████████████████████████████████████████████████████████████████████████████| 1674/1674 [00:48<00:00, 34.54it/s]\n"
     ]
    },
    {
     "name": "stdout",
     "output_type": "stream",
     "text": [
      "Epoch: 27\ttrain_loss: 0.9892\tval_loss: 1.0678000450134277\tf1: 0.441\n"
     ]
    },
    {
     "name": "stderr",
     "output_type": "stream",
     "text": [
      "100%|██████████████████████████████████████████████████████████████████████████████| 1674/1674 [00:49<00:00, 34.08it/s]\n"
     ]
    },
    {
     "name": "stdout",
     "output_type": "stream",
     "text": [
      "Epoch: 28\ttrain_loss: 0.9807\tval_loss: 0.9682999849319458\tf1: 0.511\n"
     ]
    },
    {
     "name": "stderr",
     "output_type": "stream",
     "text": [
      "100%|██████████████████████████████████████████████████████████████████████████████| 1674/1674 [00:49<00:00, 33.70it/s]\n"
     ]
    },
    {
     "name": "stdout",
     "output_type": "stream",
     "text": [
      "Epoch: 29\ttrain_loss: 0.9281\tval_loss: 0.8679999709129333\tf1: 0.543\n"
     ]
    },
    {
     "name": "stderr",
     "output_type": "stream",
     "text": [
      "100%|██████████████████████████████████████████████████████████████████████████████| 1674/1674 [00:51<00:00, 32.63it/s]\n"
     ]
    },
    {
     "name": "stdout",
     "output_type": "stream",
     "text": [
      "Epoch: 30\ttrain_loss: 0.9041\tval_loss: 0.8978999853134155\tf1: 0.57\n"
     ]
    },
    {
     "name": "stderr",
     "output_type": "stream",
     "text": [
      "100%|██████████████████████████████████████████████████████████████████████████████| 1674/1674 [01:17<00:00, 21.49it/s]\n"
     ]
    },
    {
     "name": "stdout",
     "output_type": "stream",
     "text": [
      "Epoch: 31\ttrain_loss: 0.8734\tval_loss: 0.8654000163078308\tf1: 0.546\n"
     ]
    },
    {
     "name": "stderr",
     "output_type": "stream",
     "text": [
      "100%|██████████████████████████████████████████████████████████████████████████████| 1674/1674 [01:19<00:00, 21.09it/s]\n"
     ]
    },
    {
     "name": "stdout",
     "output_type": "stream",
     "text": [
      "Epoch: 32\ttrain_loss: 0.8508\tval_loss: 0.8823000192642212\tf1: 0.54\n"
     ]
    },
    {
     "name": "stderr",
     "output_type": "stream",
     "text": [
      "100%|██████████████████████████████████████████████████████████████████████████████| 1674/1674 [00:53<00:00, 31.42it/s]\n"
     ]
    },
    {
     "name": "stdout",
     "output_type": "stream",
     "text": [
      "Epoch: 33\ttrain_loss: 0.8606\tval_loss: 0.8259000182151794\tf1: 0.562\n"
     ]
    },
    {
     "name": "stderr",
     "output_type": "stream",
     "text": [
      "100%|██████████████████████████████████████████████████████████████████████████████| 1674/1674 [00:48<00:00, 34.29it/s]\n"
     ]
    },
    {
     "name": "stdout",
     "output_type": "stream",
     "text": [
      "Epoch: 34\ttrain_loss: 0.8507\tval_loss: 0.8416000008583069\tf1: 0.556\n"
     ]
    },
    {
     "name": "stderr",
     "output_type": "stream",
     "text": [
      "100%|██████████████████████████████████████████████████████████████████████████████| 1674/1674 [00:50<00:00, 33.38it/s]\n"
     ]
    },
    {
     "name": "stdout",
     "output_type": "stream",
     "text": [
      "Epoch: 35\ttrain_loss: 0.8808\tval_loss: 0.8914999961853027\tf1: 0.522\n"
     ]
    },
    {
     "name": "stderr",
     "output_type": "stream",
     "text": [
      "100%|██████████████████████████████████████████████████████████████████████████████| 1674/1674 [00:48<00:00, 34.74it/s]\n"
     ]
    },
    {
     "name": "stdout",
     "output_type": "stream",
     "text": [
      "Epoch: 36\ttrain_loss: 0.9258\tval_loss: 0.9692999720573425\tf1: 0.51\n"
     ]
    },
    {
     "name": "stderr",
     "output_type": "stream",
     "text": [
      "100%|██████████████████████████████████████████████████████████████████████████████| 1674/1674 [00:47<00:00, 35.35it/s]\n"
     ]
    },
    {
     "name": "stdout",
     "output_type": "stream",
     "text": [
      "Epoch: 37\ttrain_loss: 0.9397\tval_loss: 0.8432000279426575\tf1: 0.613\n"
     ]
    },
    {
     "name": "stderr",
     "output_type": "stream",
     "text": [
      "100%|██████████████████████████████████████████████████████████████████████████████| 1674/1674 [00:47<00:00, 35.10it/s]\n"
     ]
    },
    {
     "name": "stdout",
     "output_type": "stream",
     "text": [
      "Epoch: 38\ttrain_loss: 0.9393\tval_loss: 0.9800000190734863\tf1: 0.46\n"
     ]
    },
    {
     "name": "stderr",
     "output_type": "stream",
     "text": [
      "100%|██████████████████████████████████████████████████████████████████████████████| 1674/1674 [00:47<00:00, 35.42it/s]\n"
     ]
    },
    {
     "name": "stdout",
     "output_type": "stream",
     "text": [
      "Epoch: 39\ttrain_loss: 0.9193\tval_loss: 0.892300009727478\tf1: 0.544\n"
     ]
    },
    {
     "name": "stderr",
     "output_type": "stream",
     "text": [
      "100%|██████████████████████████████████████████████████████████████████████████████| 1674/1674 [00:47<00:00, 35.58it/s]\n"
     ]
    },
    {
     "name": "stdout",
     "output_type": "stream",
     "text": [
      "Epoch: 40\ttrain_loss: 0.9257\tval_loss: 0.885200023651123\tf1: 0.602\n"
     ]
    },
    {
     "name": "stderr",
     "output_type": "stream",
     "text": [
      "100%|██████████████████████████████████████████████████████████████████████████████| 1674/1674 [00:47<00:00, 35.52it/s]\n"
     ]
    },
    {
     "name": "stdout",
     "output_type": "stream",
     "text": [
      "Epoch: 41\ttrain_loss: 0.9649\tval_loss: 0.8752999901771545\tf1: 0.597\n"
     ]
    },
    {
     "name": "stderr",
     "output_type": "stream",
     "text": [
      "100%|██████████████████████████████████████████████████████████████████████████████| 1674/1674 [00:46<00:00, 35.80it/s]\n"
     ]
    },
    {
     "name": "stdout",
     "output_type": "stream",
     "text": [
      "Epoch: 42\ttrain_loss: 0.9835\tval_loss: 0.9941999912261963\tf1: 0.519\n"
     ]
    },
    {
     "name": "stderr",
     "output_type": "stream",
     "text": [
      "100%|██████████████████████████████████████████████████████████████████████████████| 1674/1674 [00:47<00:00, 35.59it/s]\n"
     ]
    },
    {
     "name": "stdout",
     "output_type": "stream",
     "text": [
      "Epoch: 43\ttrain_loss: 0.9999\tval_loss: 0.96670001745224\tf1: 0.506\n"
     ]
    },
    {
     "name": "stderr",
     "output_type": "stream",
     "text": [
      "100%|██████████████████████████████████████████████████████████████████████████████| 1674/1674 [00:47<00:00, 35.20it/s]\n"
     ]
    },
    {
     "name": "stdout",
     "output_type": "stream",
     "text": [
      "Epoch: 44\ttrain_loss: 1.019\tval_loss: 0.9641000032424927\tf1: 0.529\n"
     ]
    },
    {
     "name": "stderr",
     "output_type": "stream",
     "text": [
      "100%|██████████████████████████████████████████████████████████████████████████████| 1674/1674 [00:55<00:00, 30.43it/s]\n"
     ]
    },
    {
     "name": "stdout",
     "output_type": "stream",
     "text": [
      "Epoch: 45\ttrain_loss: 0.987\tval_loss: 0.9544000029563904\tf1: 0.517\n"
     ]
    },
    {
     "name": "stderr",
     "output_type": "stream",
     "text": [
      "100%|██████████████████████████████████████████████████████████████████████████████| 1674/1674 [01:09<00:00, 24.23it/s]\n"
     ]
    },
    {
     "name": "stdout",
     "output_type": "stream",
     "text": [
      "Epoch: 46\ttrain_loss: 0.994\tval_loss: 1.1375000476837158\tf1: 0.395\n"
     ]
    },
    {
     "name": "stderr",
     "output_type": "stream",
     "text": [
      "100%|██████████████████████████████████████████████████████████████████████████████| 1674/1674 [01:00<00:00, 27.67it/s]\n"
     ]
    },
    {
     "name": "stdout",
     "output_type": "stream",
     "text": [
      "Epoch: 47\ttrain_loss: 0.9691\tval_loss: 1.0430999994277954\tf1: 0.499\n"
     ]
    },
    {
     "name": "stderr",
     "output_type": "stream",
     "text": [
      "100%|██████████████████████████████████████████████████████████████████████████████| 1674/1674 [00:50<00:00, 33.16it/s]\n"
     ]
    },
    {
     "name": "stdout",
     "output_type": "stream",
     "text": [
      "Epoch: 48\ttrain_loss: 0.944\tval_loss: 0.9424999952316284\tf1: 0.484\n"
     ]
    },
    {
     "name": "stderr",
     "output_type": "stream",
     "text": [
      "100%|██████████████████████████████████████████████████████████████████████████████| 1674/1674 [00:50<00:00, 33.40it/s]\n"
     ]
    },
    {
     "name": "stdout",
     "output_type": "stream",
     "text": [
      "Epoch: 49\ttrain_loss: 0.9057\tval_loss: 0.9168000221252441\tf1: 0.545\n"
     ]
    },
    {
     "name": "stderr",
     "output_type": "stream",
     "text": [
      "100%|██████████████████████████████████████████████████████████████████████████████| 1674/1674 [00:49<00:00, 33.70it/s]\n"
     ]
    },
    {
     "name": "stdout",
     "output_type": "stream",
     "text": [
      "Epoch: 50\ttrain_loss: 0.8871\tval_loss: 0.9294000267982483\tf1: 0.539\n"
     ]
    },
    {
     "name": "stderr",
     "output_type": "stream",
     "text": [
      "100%|██████████████████████████████████████████████████████████████████████████████| 1674/1674 [00:51<00:00, 32.75it/s]\n"
     ]
    },
    {
     "name": "stdout",
     "output_type": "stream",
     "text": [
      "Epoch: 51\ttrain_loss: 0.8651\tval_loss: 0.8715000152587891\tf1: 0.583\n"
     ]
    },
    {
     "name": "stderr",
     "output_type": "stream",
     "text": [
      "100%|██████████████████████████████████████████████████████████████████████████████| 1674/1674 [00:54<00:00, 30.56it/s]\n"
     ]
    },
    {
     "name": "stdout",
     "output_type": "stream",
     "text": [
      "Epoch: 52\ttrain_loss: 0.8413\tval_loss: 0.847100019454956\tf1: 0.583\n"
     ]
    },
    {
     "name": "stderr",
     "output_type": "stream",
     "text": [
      "100%|██████████████████████████████████████████████████████████████████████████████| 1674/1674 [00:49<00:00, 33.60it/s]\n"
     ]
    },
    {
     "name": "stdout",
     "output_type": "stream",
     "text": [
      "Epoch: 53\ttrain_loss: 0.8214\tval_loss: 0.8133000135421753\tf1: 0.629\n"
     ]
    },
    {
     "name": "stderr",
     "output_type": "stream",
     "text": [
      "100%|██████████████████████████████████████████████████████████████████████████████| 1674/1674 [00:50<00:00, 33.07it/s]\n"
     ]
    },
    {
     "name": "stdout",
     "output_type": "stream",
     "text": [
      "Epoch: 54\ttrain_loss: 0.8149\tval_loss: 0.8003000020980835\tf1: 0.627\n"
     ]
    },
    {
     "name": "stderr",
     "output_type": "stream",
     "text": [
      "100%|██████████████████████████████████████████████████████████████████████████████| 1674/1674 [00:50<00:00, 33.13it/s]\n"
     ]
    },
    {
     "name": "stdout",
     "output_type": "stream",
     "text": [
      "Epoch: 55\ttrain_loss: 0.8191\tval_loss: 0.8118000030517578\tf1: 0.631\n"
     ]
    },
    {
     "name": "stderr",
     "output_type": "stream",
     "text": [
      "100%|██████████████████████████████████████████████████████████████████████████████| 1674/1674 [00:50<00:00, 33.35it/s]\n"
     ]
    },
    {
     "name": "stdout",
     "output_type": "stream",
     "text": [
      "Epoch: 56\ttrain_loss: 0.8268\tval_loss: 0.814300000667572\tf1: 0.596\n"
     ]
    },
    {
     "name": "stderr",
     "output_type": "stream",
     "text": [
      "100%|██████████████████████████████████████████████████████████████████████████████| 1674/1674 [00:49<00:00, 33.53it/s]\n"
     ]
    },
    {
     "name": "stdout",
     "output_type": "stream",
     "text": [
      "Epoch: 57\ttrain_loss: 0.8187\tval_loss: 0.8342000246047974\tf1: 0.585\n"
     ]
    },
    {
     "name": "stderr",
     "output_type": "stream",
     "text": [
      "100%|██████████████████████████████████████████████████████████████████████████████| 1674/1674 [00:59<00:00, 28.36it/s]\n"
     ]
    },
    {
     "name": "stdout",
     "output_type": "stream",
     "text": [
      "Epoch: 58\ttrain_loss: 0.8211\tval_loss: 0.8402000069618225\tf1: 0.597\n"
     ]
    },
    {
     "name": "stderr",
     "output_type": "stream",
     "text": [
      "100%|██████████████████████████████████████████████████████████████████████████████| 1674/1674 [00:50<00:00, 33.35it/s]\n"
     ]
    },
    {
     "name": "stdout",
     "output_type": "stream",
     "text": [
      "Epoch: 59\ttrain_loss: 0.8104\tval_loss: 0.8281000256538391\tf1: 0.575\n"
     ]
    },
    {
     "name": "stderr",
     "output_type": "stream",
     "text": [
      "100%|██████████████████████████████████████████████████████████████████████████████| 1674/1674 [00:54<00:00, 30.99it/s]\n"
     ]
    },
    {
     "name": "stdout",
     "output_type": "stream",
     "text": [
      "Epoch: 60\ttrain_loss: 0.8142\tval_loss: 0.843999981880188\tf1: 0.557\n"
     ]
    },
    {
     "name": "stderr",
     "output_type": "stream",
     "text": [
      "100%|██████████████████████████████████████████████████████████████████████████████| 1674/1674 [00:49<00:00, 33.77it/s]\n"
     ]
    },
    {
     "name": "stdout",
     "output_type": "stream",
     "text": [
      "Epoch: 61\ttrain_loss: 0.8319\tval_loss: 0.8787000179290771\tf1: 0.538\n"
     ]
    },
    {
     "name": "stderr",
     "output_type": "stream",
     "text": [
      "100%|██████████████████████████████████████████████████████████████████████████████| 1674/1674 [00:48<00:00, 34.36it/s]\n"
     ]
    },
    {
     "name": "stdout",
     "output_type": "stream",
     "text": [
      "Epoch: 62\ttrain_loss: 0.8389\tval_loss: 0.824400007724762\tf1: 0.588\n"
     ]
    },
    {
     "name": "stderr",
     "output_type": "stream",
     "text": [
      "100%|██████████████████████████████████████████████████████████████████████████████| 1674/1674 [00:48<00:00, 34.51it/s]\n"
     ]
    },
    {
     "name": "stdout",
     "output_type": "stream",
     "text": [
      "Epoch: 63\ttrain_loss: 0.8328\tval_loss: 0.8367000222206116\tf1: 0.583\n"
     ]
    },
    {
     "name": "stderr",
     "output_type": "stream",
     "text": [
      "100%|██████████████████████████████████████████████████████████████████████████████| 1674/1674 [00:49<00:00, 34.06it/s]\n"
     ]
    },
    {
     "name": "stdout",
     "output_type": "stream",
     "text": [
      "Epoch: 64\ttrain_loss: 0.8363\tval_loss: 0.8651999831199646\tf1: 0.551\n"
     ]
    },
    {
     "name": "stderr",
     "output_type": "stream",
     "text": [
      "100%|██████████████████████████████████████████████████████████████████████████████| 1674/1674 [00:50<00:00, 32.86it/s]\n"
     ]
    },
    {
     "name": "stdout",
     "output_type": "stream",
     "text": [
      "Epoch: 65\ttrain_loss: 0.8433\tval_loss: 0.8526999950408936\tf1: 0.555\n"
     ]
    },
    {
     "name": "stderr",
     "output_type": "stream",
     "text": [
      "100%|██████████████████████████████████████████████████████████████████████████████| 1674/1674 [00:53<00:00, 31.50it/s]\n"
     ]
    },
    {
     "name": "stdout",
     "output_type": "stream",
     "text": [
      "Epoch: 66\ttrain_loss: 0.8434\tval_loss: 0.8209999799728394\tf1: 0.605\n"
     ]
    },
    {
     "name": "stderr",
     "output_type": "stream",
     "text": [
      "100%|██████████████████████████████████████████████████████████████████████████████| 1674/1674 [00:50<00:00, 33.12it/s]\n"
     ]
    },
    {
     "name": "stdout",
     "output_type": "stream",
     "text": [
      "Epoch: 67\ttrain_loss: 0.8407\tval_loss: 0.8956000208854675\tf1: 0.523\n"
     ]
    },
    {
     "name": "stderr",
     "output_type": "stream",
     "text": [
      "100%|██████████████████████████████████████████████████████████████████████████████| 1674/1674 [00:51<00:00, 32.38it/s]\n"
     ]
    },
    {
     "name": "stdout",
     "output_type": "stream",
     "text": [
      "Epoch: 68\ttrain_loss: 0.8467\tval_loss: 0.9007999897003174\tf1: 0.565\n"
     ]
    },
    {
     "name": "stderr",
     "output_type": "stream",
     "text": [
      "100%|██████████████████████████████████████████████████████████████████████████████| 1674/1674 [00:50<00:00, 32.88it/s]\n"
     ]
    },
    {
     "name": "stdout",
     "output_type": "stream",
     "text": [
      "Epoch: 69\ttrain_loss: 0.8569\tval_loss: 0.8130999803543091\tf1: 0.622\n"
     ]
    },
    {
     "name": "stderr",
     "output_type": "stream",
     "text": [
      "100%|██████████████████████████████████████████████████████████████████████████████| 1674/1674 [00:58<00:00, 28.76it/s]\n"
     ]
    },
    {
     "name": "stdout",
     "output_type": "stream",
     "text": [
      "Epoch: 70\ttrain_loss: 0.862\tval_loss: 0.8641999959945679\tf1: 0.609\n"
     ]
    },
    {
     "name": "stderr",
     "output_type": "stream",
     "text": [
      "100%|██████████████████████████████████████████████████████████████████████████████| 1674/1674 [01:01<00:00, 27.41it/s]\n"
     ]
    },
    {
     "name": "stdout",
     "output_type": "stream",
     "text": [
      "Epoch: 71\ttrain_loss: 0.841\tval_loss: 0.8443999886512756\tf1: 0.607\n"
     ]
    },
    {
     "name": "stderr",
     "output_type": "stream",
     "text": [
      "100%|██████████████████████████████████████████████████████████████████████████████| 1674/1674 [00:56<00:00, 29.43it/s]\n"
     ]
    },
    {
     "name": "stdout",
     "output_type": "stream",
     "text": [
      "Epoch: 72\ttrain_loss: 0.846\tval_loss: 0.8395000100135803\tf1: 0.613\n"
     ]
    },
    {
     "name": "stderr",
     "output_type": "stream",
     "text": [
      "100%|██████████████████████████████████████████████████████████████████████████████| 1674/1674 [01:01<00:00, 27.40it/s]\n"
     ]
    },
    {
     "name": "stdout",
     "output_type": "stream",
     "text": [
      "Epoch: 73\ttrain_loss: 0.8634\tval_loss: 0.8762000203132629\tf1: 0.612\n"
     ]
    },
    {
     "name": "stderr",
     "output_type": "stream",
     "text": [
      "100%|██████████████████████████████████████████████████████████████████████████████| 1674/1674 [00:57<00:00, 28.96it/s]\n"
     ]
    },
    {
     "name": "stdout",
     "output_type": "stream",
     "text": [
      "Epoch: 74\ttrain_loss: 0.8717\tval_loss: 0.822700023651123\tf1: 0.609\n"
     ]
    },
    {
     "name": "stderr",
     "output_type": "stream",
     "text": [
      "100%|██████████████████████████████████████████████████████████████████████████████| 1674/1674 [00:51<00:00, 32.30it/s]\n"
     ]
    },
    {
     "name": "stdout",
     "output_type": "stream",
     "text": [
      "Epoch: 75\ttrain_loss: 0.8485\tval_loss: 0.8216999769210815\tf1: 0.605\n"
     ]
    },
    {
     "name": "stderr",
     "output_type": "stream",
     "text": [
      "100%|██████████████████████████████████████████████████████████████████████████████| 1674/1674 [00:54<00:00, 30.92it/s]\n"
     ]
    },
    {
     "name": "stdout",
     "output_type": "stream",
     "text": [
      "Epoch: 76\ttrain_loss: 0.8625\tval_loss: 0.8798999786376953\tf1: 0.614\n"
     ]
    },
    {
     "name": "stderr",
     "output_type": "stream",
     "text": [
      "100%|██████████████████████████████████████████████████████████████████████████████| 1674/1674 [00:50<00:00, 33.22it/s]\n"
     ]
    },
    {
     "name": "stdout",
     "output_type": "stream",
     "text": [
      "Epoch: 77\ttrain_loss: 0.8646\tval_loss: 0.8784000277519226\tf1: 0.612\n"
     ]
    },
    {
     "name": "stderr",
     "output_type": "stream",
     "text": [
      "100%|██████████████████████████████████████████████████████████████████████████████| 1674/1674 [00:50<00:00, 33.26it/s]\n"
     ]
    },
    {
     "name": "stdout",
     "output_type": "stream",
     "text": [
      "Epoch: 78\ttrain_loss: 0.8772\tval_loss: 0.8694999814033508\tf1: 0.602\n"
     ]
    },
    {
     "name": "stderr",
     "output_type": "stream",
     "text": [
      "100%|██████████████████████████████████████████████████████████████████████████████| 1674/1674 [00:50<00:00, 32.87it/s]\n"
     ]
    },
    {
     "name": "stdout",
     "output_type": "stream",
     "text": [
      "Epoch: 79\ttrain_loss: 0.9008\tval_loss: 0.8616999983787537\tf1: 0.578\n"
     ]
    },
    {
     "name": "stderr",
     "output_type": "stream",
     "text": [
      "100%|██████████████████████████████████████████████████████████████████████████████| 1674/1674 [00:53<00:00, 31.32it/s]\n"
     ]
    },
    {
     "name": "stdout",
     "output_type": "stream",
     "text": [
      "Epoch: 80\ttrain_loss: 0.8734\tval_loss: 0.8557000160217285\tf1: 0.612\n"
     ]
    },
    {
     "name": "stderr",
     "output_type": "stream",
     "text": [
      "100%|██████████████████████████████████████████████████████████████████████████████| 1674/1674 [00:52<00:00, 31.79it/s]\n"
     ]
    },
    {
     "name": "stdout",
     "output_type": "stream",
     "text": [
      "Epoch: 81\ttrain_loss: 0.8606\tval_loss: 0.875\tf1: 0.559\n"
     ]
    },
    {
     "name": "stderr",
     "output_type": "stream",
     "text": [
      "100%|██████████████████████████████████████████████████████████████████████████████| 1674/1674 [00:51<00:00, 32.78it/s]\n"
     ]
    },
    {
     "name": "stdout",
     "output_type": "stream",
     "text": [
      "Epoch: 82\ttrain_loss: 0.86\tval_loss: 0.858299970626831\tf1: 0.636\n"
     ]
    },
    {
     "name": "stderr",
     "output_type": "stream",
     "text": [
      "100%|██████████████████████████████████████████████████████████████████████████████| 1674/1674 [00:52<00:00, 31.68it/s]\n"
     ]
    },
    {
     "name": "stdout",
     "output_type": "stream",
     "text": [
      "Epoch: 83\ttrain_loss: 0.895\tval_loss: 0.9574999809265137\tf1: 0.526\n"
     ]
    },
    {
     "name": "stderr",
     "output_type": "stream",
     "text": [
      "100%|██████████████████████████████████████████████████████████████████████████████| 1674/1674 [00:52<00:00, 31.60it/s]\n"
     ]
    },
    {
     "name": "stdout",
     "output_type": "stream",
     "text": [
      "Epoch: 84\ttrain_loss: 0.9195\tval_loss: 0.8871999979019165\tf1: 0.586\n"
     ]
    },
    {
     "name": "stderr",
     "output_type": "stream",
     "text": [
      "100%|██████████████████████████████████████████████████████████████████████████████| 1674/1674 [00:51<00:00, 32.36it/s]\n"
     ]
    },
    {
     "name": "stdout",
     "output_type": "stream",
     "text": [
      "Epoch: 85\ttrain_loss: 0.9235\tval_loss: 0.9531999826431274\tf1: 0.488\n"
     ]
    },
    {
     "name": "stderr",
     "output_type": "stream",
     "text": [
      "100%|██████████████████████████████████████████████████████████████████████████████| 1674/1674 [00:52<00:00, 31.83it/s]\n"
     ]
    },
    {
     "name": "stdout",
     "output_type": "stream",
     "text": [
      "Epoch: 86\ttrain_loss: 0.9072\tval_loss: 0.9083999991416931\tf1: 0.499\n"
     ]
    },
    {
     "name": "stderr",
     "output_type": "stream",
     "text": [
      "100%|██████████████████████████████████████████████████████████████████████████████| 1674/1674 [00:50<00:00, 32.86it/s]\n"
     ]
    },
    {
     "name": "stdout",
     "output_type": "stream",
     "text": [
      "Epoch: 87\ttrain_loss: 0.8981\tval_loss: 0.8725000023841858\tf1: 0.526\n"
     ]
    },
    {
     "name": "stderr",
     "output_type": "stream",
     "text": [
      "100%|██████████████████████████████████████████████████████████████████████████████| 1674/1674 [00:51<00:00, 32.65it/s]\n"
     ]
    },
    {
     "name": "stdout",
     "output_type": "stream",
     "text": [
      "Epoch: 88\ttrain_loss: 0.8714\tval_loss: 0.8285999894142151\tf1: 0.629\n"
     ]
    },
    {
     "name": "stderr",
     "output_type": "stream",
     "text": [
      "100%|██████████████████████████████████████████████████████████████████████████████| 1674/1674 [00:51<00:00, 32.40it/s]\n"
     ]
    },
    {
     "name": "stdout",
     "output_type": "stream",
     "text": [
      "Epoch: 89\ttrain_loss: 0.8306\tval_loss: 0.8306999802589417\tf1: 0.608\n"
     ]
    },
    {
     "name": "stderr",
     "output_type": "stream",
     "text": [
      "100%|██████████████████████████████████████████████████████████████████████████████| 1674/1674 [00:51<00:00, 32.49it/s]\n"
     ]
    },
    {
     "name": "stdout",
     "output_type": "stream",
     "text": [
      "Epoch: 90\ttrain_loss: 0.8246\tval_loss: 0.8216999769210815\tf1: 0.598\n"
     ]
    },
    {
     "name": "stderr",
     "output_type": "stream",
     "text": [
      "100%|██████████████████████████████████████████████████████████████████████████████| 1674/1674 [00:51<00:00, 32.63it/s]\n"
     ]
    },
    {
     "name": "stdout",
     "output_type": "stream",
     "text": [
      "Epoch: 91\ttrain_loss: 0.8419\tval_loss: 0.8754000067710876\tf1: 0.563\n"
     ]
    },
    {
     "name": "stderr",
     "output_type": "stream",
     "text": [
      "100%|██████████████████████████████████████████████████████████████████████████████| 1674/1674 [00:51<00:00, 32.64it/s]\n"
     ]
    },
    {
     "name": "stdout",
     "output_type": "stream",
     "text": [
      "Epoch: 92\ttrain_loss: 0.8534\tval_loss: 0.8790000081062317\tf1: 0.538\n"
     ]
    },
    {
     "name": "stderr",
     "output_type": "stream",
     "text": [
      " 51%|████████████████████████████████████████▏                                      | 852/1674 [00:27<00:24, 33.49it/s]"
     ]
    },
    {
     "ename": "KeyboardInterrupt",
     "evalue": "",
     "output_type": "error",
     "traceback": [
      "\u001b[1;31m---------------------------------------------------------------------------\u001b[0m",
      "\u001b[1;31mKeyboardInterrupt\u001b[0m                         Traceback (most recent call last)",
      "\u001b[1;32m<ipython-input-7-cb4d52af0a7c>\u001b[0m in \u001b[0;36m<module>\u001b[1;34m\u001b[0m\n\u001b[0;32m     17\u001b[0m         \u001b[0mll\u001b[0m\u001b[1;33m.\u001b[0m\u001b[0mappend\u001b[0m\u001b[1;33m(\u001b[0m\u001b[0mloss\u001b[0m\u001b[1;33m.\u001b[0m\u001b[0mdata\u001b[0m\u001b[1;33m.\u001b[0m\u001b[0mitem\u001b[0m\u001b[1;33m(\u001b[0m\u001b[1;33m)\u001b[0m\u001b[1;33m)\u001b[0m\u001b[1;33m\u001b[0m\u001b[1;33m\u001b[0m\u001b[0m\n\u001b[0;32m     18\u001b[0m         \u001b[0mloss\u001b[0m\u001b[1;33m.\u001b[0m\u001b[0mbackward\u001b[0m\u001b[1;33m(\u001b[0m\u001b[1;33m)\u001b[0m\u001b[1;33m\u001b[0m\u001b[1;33m\u001b[0m\u001b[0m\n\u001b[1;32m---> 19\u001b[1;33m         \u001b[0moptimizer\u001b[0m\u001b[1;33m.\u001b[0m\u001b[0mstep\u001b[0m\u001b[1;33m(\u001b[0m\u001b[1;33m)\u001b[0m\u001b[1;33m\u001b[0m\u001b[1;33m\u001b[0m\u001b[0m\n\u001b[0m\u001b[0;32m     20\u001b[0m \u001b[1;33m\u001b[0m\u001b[0m\n\u001b[0;32m     21\u001b[0m     \u001b[1;32mwith\u001b[0m \u001b[0mtorch\u001b[0m\u001b[1;33m.\u001b[0m\u001b[0mno_grad\u001b[0m\u001b[1;33m(\u001b[0m\u001b[1;33m)\u001b[0m\u001b[1;33m:\u001b[0m\u001b[1;33m\u001b[0m\u001b[1;33m\u001b[0m\u001b[0m\n",
      "\u001b[1;32m~\\AppData\\Local\\Continuum\\anaconda3\\lib\\site-packages\\torch\\optim\\adam.py\u001b[0m in \u001b[0;36mstep\u001b[1;34m(self, closure)\u001b[0m\n\u001b[0;32m     92\u001b[0m                 \u001b[1;31m# Decay the first and second moment running average coefficient\u001b[0m\u001b[1;33m\u001b[0m\u001b[1;33m\u001b[0m\u001b[1;33m\u001b[0m\u001b[0m\n\u001b[0;32m     93\u001b[0m                 \u001b[0mexp_avg\u001b[0m\u001b[1;33m.\u001b[0m\u001b[0mmul_\u001b[0m\u001b[1;33m(\u001b[0m\u001b[0mbeta1\u001b[0m\u001b[1;33m)\u001b[0m\u001b[1;33m.\u001b[0m\u001b[0madd_\u001b[0m\u001b[1;33m(\u001b[0m\u001b[1;36m1\u001b[0m \u001b[1;33m-\u001b[0m \u001b[0mbeta1\u001b[0m\u001b[1;33m,\u001b[0m \u001b[0mgrad\u001b[0m\u001b[1;33m)\u001b[0m\u001b[1;33m\u001b[0m\u001b[1;33m\u001b[0m\u001b[0m\n\u001b[1;32m---> 94\u001b[1;33m                 \u001b[0mexp_avg_sq\u001b[0m\u001b[1;33m.\u001b[0m\u001b[0mmul_\u001b[0m\u001b[1;33m(\u001b[0m\u001b[0mbeta2\u001b[0m\u001b[1;33m)\u001b[0m\u001b[1;33m.\u001b[0m\u001b[0maddcmul_\u001b[0m\u001b[1;33m(\u001b[0m\u001b[1;36m1\u001b[0m \u001b[1;33m-\u001b[0m \u001b[0mbeta2\u001b[0m\u001b[1;33m,\u001b[0m \u001b[0mgrad\u001b[0m\u001b[1;33m,\u001b[0m \u001b[0mgrad\u001b[0m\u001b[1;33m)\u001b[0m\u001b[1;33m\u001b[0m\u001b[1;33m\u001b[0m\u001b[0m\n\u001b[0m\u001b[0;32m     95\u001b[0m                 \u001b[1;32mif\u001b[0m \u001b[0mamsgrad\u001b[0m\u001b[1;33m:\u001b[0m\u001b[1;33m\u001b[0m\u001b[1;33m\u001b[0m\u001b[0m\n\u001b[0;32m     96\u001b[0m                     \u001b[1;31m# Maintains the maximum of all 2nd moment running avg. till now\u001b[0m\u001b[1;33m\u001b[0m\u001b[1;33m\u001b[0m\u001b[1;33m\u001b[0m\u001b[0m\n",
      "\u001b[1;31mKeyboardInterrupt\u001b[0m: "
     ]
    }
   ],
   "source": [
    "from tqdm import tqdm\n",
    "import time\n",
    "\n",
    "batch_size = 2000\n",
    "epochs = 100\n",
    "\n",
    "loss_list = []\n",
    "for ep in range(epochs):\n",
    "    ll = []\n",
    "    net.train()\n",
    "    for batch in tqdm(range(X_train.shape[0]//batch_size)):\n",
    "        x1 = X_train1[batch*batch_size:(batch+1)*batch_size, :].float()\n",
    "        x2 = X_train2[batch*batch_size:(batch+1)*batch_size, :].float()\n",
    "        label = y_train[batch*batch_size:(batch+1)*batch_size].float()\n",
    "        out = net(x1, x2).view(-1, 11)        \n",
    "        loss = loss_fn(out.float(),label.long())\n",
    "        ll.append(loss.data.item())\n",
    "        loss.backward()\n",
    "        optimizer.step()\n",
    "        \n",
    "    with torch.no_grad():\n",
    "        net.eval()\n",
    "        x1, x2 = X_test1.float(), X_test2.float()\n",
    "        label = y_test\n",
    "        out = net(x1, x2).view(-1, 11)\n",
    "        loss = loss_fn(out.float(),label.long())\n",
    "        \n",
    "    y_hat = np.argmax(out.detach().cpu().numpy(), axis=1)\n",
    "    y_true = label.cpu().numpy()\n",
    "    time.sleep(2)\n",
    "    print('Epoch: {}\\ttrain_loss: {}\\tval_loss: {}\\tf1: {}'.format(ep, \n",
    "                                                                   np.round(np.mean(ll), 4), \n",
    "                                                                   np.round(loss.cpu().numpy(), 4), \n",
    "                                                                   np.round(f1_score(y_hat, y_true, average='macro'), 3)))\n",
    "    time.sleep(2)\n",
    "    "
   ]
  },
  {
   "cell_type": "code",
   "execution_count": 172,
   "metadata": {},
   "outputs": [
    {
     "name": "stdout",
     "output_type": "stream",
     "text": [
      "Step 1: 280.07590103149414\n",
      "Step 2.batch: 24.730133771896362\n",
      "Step 2.batch_slices2: 18.218770742416382\n",
      "Step 3: 3.7752327919006348\n"
     ]
    },
    {
     "name": "stderr",
     "output_type": "stream",
     "text": [
      "C:\\Users\\fgrim\\AppData\\Local\\Continuum\\anaconda3\\lib\\site-packages\\ipykernel_launcher.py:44: SettingWithCopyWarning: \n",
      "A value is trying to be set on a copy of a slice from a DataFrame\n",
      "\n",
      "See the caveats in the documentation: https://pandas.pydata.org/pandas-docs/stable/user_guide/indexing.html#returning-a-view-versus-a-copy\n"
     ]
    },
    {
     "name": "stdout",
     "output_type": "stream",
     "text": [
      "Step 4: 4.886585712432861\n",
      "Total time: 334.0162003040314\n",
      "train_complete\n",
      "Step 1: 109.4461760520935\n",
      "Step 2.batch: 5.077563047409058\n",
      "Step 2.batch_slices2: 6.743426084518433\n",
      "Step 3: 1.4984378814697266\n",
      "Step 4: 3.2313930988311768\n",
      "Total time: 127.27661323547363\n"
     ]
    },
    {
     "ename": "NameError",
     "evalue": "name 'model_selection' is not defined",
     "output_type": "error",
     "traceback": [
      "\u001b[1;31m---------------------------------------------------------------------------\u001b[0m",
      "\u001b[1;31mNameError\u001b[0m                                 Traceback (most recent call last)",
      "\u001b[1;32m<ipython-input-172-5935bd7cb16b>\u001b[0m in \u001b[0;36m<module>\u001b[1;34m\u001b[0m\n\u001b[0;32m     60\u001b[0m \u001b[1;33m\u001b[0m\u001b[0m\n\u001b[0;32m     61\u001b[0m \u001b[0mcol\u001b[0m \u001b[1;33m=\u001b[0m \u001b[1;33m[\u001b[0m\u001b[0mc\u001b[0m \u001b[1;32mfor\u001b[0m \u001b[0mc\u001b[0m \u001b[1;32min\u001b[0m \u001b[0mtrain\u001b[0m\u001b[1;33m.\u001b[0m\u001b[0mcolumns\u001b[0m \u001b[1;32mif\u001b[0m \u001b[0mc\u001b[0m \u001b[1;32mnot\u001b[0m \u001b[1;32min\u001b[0m \u001b[1;33m[\u001b[0m\u001b[1;34m'time'\u001b[0m\u001b[1;33m,\u001b[0m \u001b[1;34m'open_channels'\u001b[0m\u001b[1;33m,\u001b[0m \u001b[1;34m'batch'\u001b[0m\u001b[1;33m,\u001b[0m \u001b[1;34m'batch_index'\u001b[0m\u001b[1;33m,\u001b[0m \u001b[1;34m'batch_slices'\u001b[0m\u001b[1;33m,\u001b[0m \u001b[1;34m'batch_slices2'\u001b[0m\u001b[1;33m]\u001b[0m\u001b[1;33m]\u001b[0m\u001b[1;33m\u001b[0m\u001b[1;33m\u001b[0m\u001b[0m\n\u001b[1;32m---> 62\u001b[1;33m \u001b[0mx1\u001b[0m\u001b[1;33m,\u001b[0m \u001b[0mx2\u001b[0m\u001b[1;33m,\u001b[0m \u001b[0my1\u001b[0m\u001b[1;33m,\u001b[0m \u001b[0my2\u001b[0m \u001b[1;33m=\u001b[0m \u001b[0mmodel_selection\u001b[0m\u001b[1;33m.\u001b[0m\u001b[0mtrain_test_split\u001b[0m\u001b[1;33m(\u001b[0m\u001b[0mtrain\u001b[0m\u001b[1;33m[\u001b[0m\u001b[0mcol\u001b[0m\u001b[1;33m]\u001b[0m\u001b[1;33m,\u001b[0m \u001b[0mtrain\u001b[0m\u001b[1;33m[\u001b[0m\u001b[1;34m'open_channels'\u001b[0m\u001b[1;33m]\u001b[0m\u001b[1;33m,\u001b[0m \u001b[0mtest_size\u001b[0m\u001b[1;33m=\u001b[0m\u001b[1;36m0.3\u001b[0m\u001b[1;33m,\u001b[0m \u001b[0mrandom_state\u001b[0m\u001b[1;33m=\u001b[0m\u001b[1;36m7\u001b[0m\u001b[1;33m)\u001b[0m\u001b[1;33m\u001b[0m\u001b[1;33m\u001b[0m\u001b[0m\n\u001b[0m\u001b[0;32m     63\u001b[0m \u001b[0mtarget\u001b[0m \u001b[1;33m=\u001b[0m \u001b[0mtrain\u001b[0m\u001b[1;33m[\u001b[0m\u001b[1;34m'open_channels'\u001b[0m\u001b[1;33m]\u001b[0m\u001b[1;33m\u001b[0m\u001b[1;33m\u001b[0m\u001b[0m\n\u001b[0;32m     64\u001b[0m \u001b[0mtrain\u001b[0m \u001b[1;33m=\u001b[0m \u001b[0mtrain\u001b[0m\u001b[1;33m[\u001b[0m\u001b[0mcol\u001b[0m\u001b[1;33m]\u001b[0m\u001b[1;33m\u001b[0m\u001b[1;33m\u001b[0m\u001b[0m\n",
      "\u001b[1;31mNameError\u001b[0m: name 'model_selection' is not defined"
     ]
    }
   ],
   "source": [
    "import time\n",
    "\n",
    "def features(df):\n",
    "    start_time = time.time()\n",
    "    df = df.sort_values(by=['time']).reset_index(drop=True)\n",
    "    df.index = ((df.time * 10_000) - 1).values\n",
    "    df['batch'] = df.index // 25_000\n",
    "    df['batch_index'] = df.index  - (df.batch * 25_000)\n",
    "    df['batch_slices'] = df['batch_index']  // 2500\n",
    "    df['batch_slices2'] = df.apply(lambda r: '_'.join([str(r['batch']).zfill(3), str(r['batch_slices']).zfill(3)]), axis=1)\n",
    "    \n",
    "    print('Step 1: {}'.format(time.time()-start_time))\n",
    "    cnt_time = time.time()\n",
    "    \n",
    "    for c in ['batch','batch_slices2']:\n",
    "        d = {}\n",
    "        d['mean'+c] = df.groupby([c])['signal'].mean()\n",
    "        d['median'+c] = df.groupby([c])['signal'].median()\n",
    "        d['max'+c] = df.groupby([c])['signal'].max()\n",
    "        d['min'+c] = df.groupby([c])['signal'].min()\n",
    "        d['std'+c] = df.groupby([c])['signal'].std()\n",
    "        d['mean_abs_chg'+c] = df.groupby([c])['signal'].apply(lambda x: np.mean(np.abs(np.diff(x))))\n",
    "        d['abs_max'+c] = df.groupby([c])['signal'].apply(lambda x: np.max(np.abs(x)))\n",
    "        d['abs_min'+c] = df.groupby([c])['signal'].apply(lambda x: np.min(np.abs(x)))\n",
    "        d['range'+c] = d['max'+c] - d['min'+c]\n",
    "        d['maxtomin'+c] = d['max'+c] / d['min'+c]\n",
    "        d['abs_avg'+c] = (d['abs_min'+c] + d['abs_max'+c]) / 2\n",
    "        for v in d:\n",
    "            df[v] = df[c].map(d[v].to_dict())\n",
    "        \n",
    "        print('Step 2.{}: {}'.format(c, time.time()-cnt_time))\n",
    "        cnt_time = time.time()\n",
    "        \n",
    "            \n",
    "    \n",
    "    #add shifts\n",
    "    df['signal_shift_+1'] = [0,] + list(df['signal'].values[:-1])\n",
    "    df['signal_shift_-1'] = list(df['signal'].values[1:]) + [0]\n",
    "    \n",
    "    print('Step 3: {}'.format(time.time()-cnt_time))\n",
    "    cnt_time = time.time()\n",
    "    \n",
    "    for i in df[df['batch_index']==0].index:\n",
    "        df['signal_shift_+1'][i] = np.nan\n",
    "    for i in df[df['batch_index']==49999].index:\n",
    "        df['signal_shift_-1'][i] = np.nan\n",
    "    \n",
    "    print('Step 4: {}'.format(time.time()-cnt_time))\n",
    "    cnt_time = time.time()\n",
    "    for c in [c1 for c1 in df.columns if c1 not in ['time', 'signal', 'open_channels', 'batch', 'batch_index', 'batch_slices', 'batch_slices2']]:\n",
    "        df[c+'_msignal'] = df[c] - df['signal']\n",
    "        \n",
    "    print('Total time: {}'.format(time.time()-start_time))\n",
    "    return df\n",
    "\n",
    "\n",
    "train = features(df)\n",
    "print('train_complete')\n",
    "test = features(df_test)\n",
    "\n",
    "col = [c for c in train.columns if c not in ['time', 'open_channels', 'batch', 'batch_index', 'batch_slices', 'batch_slices2']]\n",
    "x1, x2, y1, y2 = model_selection.train_test_split(train[col], train['open_channels'], test_size=0.3, random_state=7)\n",
    "target = train['open_channels']\n",
    "train = train[col]"
   ]
  }
 ],
 "metadata": {
  "kernelspec": {
   "display_name": "Python 3",
   "language": "python",
   "name": "python3"
  },
  "language_info": {
   "codemirror_mode": {
    "name": "ipython",
    "version": 3
   },
   "file_extension": ".py",
   "mimetype": "text/x-python",
   "name": "python",
   "nbconvert_exporter": "python",
   "pygments_lexer": "ipython3",
   "version": "3.6.8"
  }
 },
 "nbformat": 4,
 "nbformat_minor": 4
}
